{
 "cells": [
  {
   "cell_type": "markdown",
   "metadata": {},
   "source": [
    "## Bank Telemarketing Outcome Prediction and Decision Support\n",
    "\n",
    "### *By Zhi Chen and Daniel Mocombe* "
   ]
  },
  {
   "cell_type": "markdown",
   "metadata": {},
   "source": [
    "### <font color=darkblue>Introduction</font>\n",
    "<font color=darkblue> *Telemarketing is still the main promotion approach in commerical banking industry today. Bank tellers are calling their clients to pursuade them to make term deposit, open money market accounts, loans, etc. Telemarketing promotion is very time-consuming. A bank staff can call a client for more 10 times spending total 3 hours without getting a positive result. A good telemarketing campaign can get good amount of positive response without inputting too much human resources.* </font>\n",
    "\n",
    "<font color=darkblue> *Therefore, it is essential to understand which type of clients are more likely to response positively to the promotion. And, it is important to establish a model to predict the telemarketing campaign outcome based on the bank's purposes for the management level to understand the potential outcome.* </font>\n",
    "\n",
    "<font color=darkblue> *Utilizing a Portuguese Bank telemarketing campaign dataset, this project established model to predict outcome of bank term-deposit telemarketing campain and analyzed clients' response to the term deposit promoting with various clients' attributes.* </font>"
   ]
  },
  {
   "cell_type": "markdown",
   "metadata": {},
   "source": [
    "### <font color=darkblue>Summary</font>\n",
    "<font color=darkblue>__*The goals of this Notebook are to: (1) analyze how various features can influence the telemarketing campaign response, help bank tellers to improve telemarketing efficiency; (2) develop machine learning models that can help bank or bank tellers to predict response of the clients. (3) analyzed the different business scenarios, based on evaluation results of various models, interpreted different metrics for different business situations, make suggestions to bank or bank tellers regarding how to use models.*__ </font>\n",
    "\n",
    "<font color=darkblue> __*This Notebook has 7 parts:*__ </font>\n",
    "\n",
    "<font color=darkblue> __*1. Data collection and cleaning*__ </font>\n",
    "\n",
    "<font color=darkblue> __*2. Exploratory Data Analysis, descriptive statistics*__ </font>\n",
    "\n",
    "<font color=darkblue>__*3. Hypothesis test and analysis*__ </font>\n",
    "\n",
    "<font color=darkblue>__*4. Preprocessing and feature engineering*__ </font>\n",
    "\n",
    "<font color=darkblue>__*5. Various model fitting*__ </font>\n",
    "\n",
    "<font color=darkblue>__*6. Models evaluation*__ </font>\n",
    "\n",
    "<font color=darkblue>__*7. Business conclusion and discussion*__ </font>"
   ]
  },
  {
   "cell_type": "markdown",
   "metadata": {},
   "source": [
    "## 1. Data collection and cleaning"
   ]
  },
  {
   "cell_type": "markdown",
   "metadata": {},
   "source": [
    "### 1.1 Get dataset from kaggle.com, understand all features and target"
   ]
  },
  {
   "cell_type": "code",
   "execution_count": 130,
   "metadata": {},
   "outputs": [],
   "source": [
    "import pandas as pd\n",
    "import numpy as np\n",
    "import matplotlib.pyplot as plt\n",
    "import seaborn as sns\n",
    "pd.set_option('display.max_columns',1000)"
   ]
  },
  {
   "cell_type": "code",
   "execution_count": 131,
   "metadata": {
    "scrolled": true
   },
   "outputs": [
    {
     "data": {
      "text/html": [
       "<div>\n",
       "<style scoped>\n",
       "    .dataframe tbody tr th:only-of-type {\n",
       "        vertical-align: middle;\n",
       "    }\n",
       "\n",
       "    .dataframe tbody tr th {\n",
       "        vertical-align: top;\n",
       "    }\n",
       "\n",
       "    .dataframe thead th {\n",
       "        text-align: right;\n",
       "    }\n",
       "</style>\n",
       "<table border=\"1\" class=\"dataframe\">\n",
       "  <thead>\n",
       "    <tr style=\"text-align: right;\">\n",
       "      <th></th>\n",
       "      <th>age</th>\n",
       "      <th>job</th>\n",
       "      <th>marital</th>\n",
       "      <th>education</th>\n",
       "      <th>default</th>\n",
       "      <th>balance</th>\n",
       "      <th>housing</th>\n",
       "      <th>loan</th>\n",
       "      <th>day</th>\n",
       "      <th>month</th>\n",
       "      <th>duration</th>\n",
       "      <th>campaign</th>\n",
       "      <th>pdays</th>\n",
       "      <th>previous</th>\n",
       "      <th>poutcome</th>\n",
       "      <th>response</th>\n",
       "      <th>response_binary</th>\n",
       "    </tr>\n",
       "  </thead>\n",
       "  <tbody>\n",
       "    <tr>\n",
       "      <td>0</td>\n",
       "      <td>58</td>\n",
       "      <td>management</td>\n",
       "      <td>married</td>\n",
       "      <td>tertiary</td>\n",
       "      <td>no</td>\n",
       "      <td>2143</td>\n",
       "      <td>yes</td>\n",
       "      <td>no</td>\n",
       "      <td>5</td>\n",
       "      <td>may</td>\n",
       "      <td>4.35</td>\n",
       "      <td>1</td>\n",
       "      <td>-1</td>\n",
       "      <td>0</td>\n",
       "      <td>unknown</td>\n",
       "      <td>no</td>\n",
       "      <td>0</td>\n",
       "    </tr>\n",
       "    <tr>\n",
       "      <td>1</td>\n",
       "      <td>44</td>\n",
       "      <td>technician</td>\n",
       "      <td>single</td>\n",
       "      <td>secondary</td>\n",
       "      <td>no</td>\n",
       "      <td>29</td>\n",
       "      <td>yes</td>\n",
       "      <td>no</td>\n",
       "      <td>5</td>\n",
       "      <td>may</td>\n",
       "      <td>2.52</td>\n",
       "      <td>1</td>\n",
       "      <td>-1</td>\n",
       "      <td>0</td>\n",
       "      <td>unknown</td>\n",
       "      <td>no</td>\n",
       "      <td>0</td>\n",
       "    </tr>\n",
       "    <tr>\n",
       "      <td>2</td>\n",
       "      <td>33</td>\n",
       "      <td>entrepreneur</td>\n",
       "      <td>married</td>\n",
       "      <td>secondary</td>\n",
       "      <td>no</td>\n",
       "      <td>2</td>\n",
       "      <td>yes</td>\n",
       "      <td>yes</td>\n",
       "      <td>5</td>\n",
       "      <td>may</td>\n",
       "      <td>1.27</td>\n",
       "      <td>1</td>\n",
       "      <td>-1</td>\n",
       "      <td>0</td>\n",
       "      <td>unknown</td>\n",
       "      <td>no</td>\n",
       "      <td>0</td>\n",
       "    </tr>\n",
       "    <tr>\n",
       "      <td>5</td>\n",
       "      <td>35</td>\n",
       "      <td>management</td>\n",
       "      <td>married</td>\n",
       "      <td>tertiary</td>\n",
       "      <td>no</td>\n",
       "      <td>231</td>\n",
       "      <td>yes</td>\n",
       "      <td>no</td>\n",
       "      <td>5</td>\n",
       "      <td>may</td>\n",
       "      <td>2.32</td>\n",
       "      <td>1</td>\n",
       "      <td>-1</td>\n",
       "      <td>0</td>\n",
       "      <td>unknown</td>\n",
       "      <td>no</td>\n",
       "      <td>0</td>\n",
       "    </tr>\n",
       "    <tr>\n",
       "      <td>6</td>\n",
       "      <td>28</td>\n",
       "      <td>management</td>\n",
       "      <td>single</td>\n",
       "      <td>tertiary</td>\n",
       "      <td>no</td>\n",
       "      <td>447</td>\n",
       "      <td>yes</td>\n",
       "      <td>yes</td>\n",
       "      <td>5</td>\n",
       "      <td>may</td>\n",
       "      <td>3.62</td>\n",
       "      <td>1</td>\n",
       "      <td>-1</td>\n",
       "      <td>0</td>\n",
       "      <td>unknown</td>\n",
       "      <td>no</td>\n",
       "      <td>0</td>\n",
       "    </tr>\n",
       "  </tbody>\n",
       "</table>\n",
       "</div>"
      ],
      "text/plain": [
       "   age           job  marital  education default  balance housing loan  day  \\\n",
       "0   58    management  married   tertiary      no     2143     yes   no    5   \n",
       "1   44    technician   single  secondary      no       29     yes   no    5   \n",
       "2   33  entrepreneur  married  secondary      no        2     yes  yes    5   \n",
       "5   35    management  married   tertiary      no      231     yes   no    5   \n",
       "6   28    management   single   tertiary      no      447     yes  yes    5   \n",
       "\n",
       "  month  duration  campaign  pdays  previous poutcome response  \\\n",
       "0   may      4.35         1     -1         0  unknown       no   \n",
       "1   may      2.52         1     -1         0  unknown       no   \n",
       "2   may      1.27         1     -1         0  unknown       no   \n",
       "5   may      2.32         1     -1         0  unknown       no   \n",
       "6   may      3.62         1     -1         0  unknown       no   \n",
       "\n",
       "   response_binary  \n",
       "0                0  \n",
       "1                0  \n",
       "2                0  \n",
       "5                0  \n",
       "6                0  "
      ]
     },
     "execution_count": 131,
     "metadata": {},
     "output_type": "execute_result"
    }
   ],
   "source": [
    "df = pd.read_csv('Portuguese Bank.csv', index_col=0)\n",
    "df.head()"
   ]
  },
  {
   "cell_type": "code",
   "execution_count": 132,
   "metadata": {},
   "outputs": [],
   "source": [
    "df1 = pd.read_csv('Portuguese Bank.csv', index_col=0)"
   ]
  },
  {
   "cell_type": "markdown",
   "metadata": {},
   "source": [
    "The following are explanations of some features in this dataset. \n",
    "- default: has credit in default? (categorical: 'no','yes','unknown')\n",
    "- housing: has housing loan? (categorical: 'no','yes','unknown')\n",
    "- loan: has personal loan? (categorical: 'no','yes','unknown')\n",
    "- month: last contact month of year (categorical: 'jan', 'feb', 'mar', ..., 'nov', 'dec')\n",
    "- day: last contact day of the week\n",
    "- duration: last contact duration, in seconds\n",
    "- campaign: number of contacts performed during this campaign and for this client\n",
    "- pdays: number of days that passed by after the client was last contacted from a previous campaign\n",
    "- previous: number of contacts performed before this campaign and for this client \n",
    "- poutcome: outcome of the previous marketing campaign"
   ]
  },
  {
   "cell_type": "markdown",
   "metadata": {},
   "source": [
    "### 1.2 Clean up data"
   ]
  },
  {
   "cell_type": "code",
   "execution_count": 133,
   "metadata": {},
   "outputs": [
    {
     "data": {
      "text/plain": [
       "unknown    0.852134\n",
       "failure    0.113807\n",
       "success    0.034059\n",
       "Name: poutcome, dtype: float64"
      ]
     },
     "execution_count": 133,
     "metadata": {},
     "output_type": "execute_result"
    }
   ],
   "source": [
    "# because poutcome represents the outcome of the previous campaign, and more than 85% of this is unknown, there is\n",
    "# no way we can know what happened last time and it is not appropriate to replace the majority unknown by values\n",
    "# derived from minority known, so we need to drop this column\n",
    "df.poutcome.value_counts(normalize = True)"
   ]
  },
  {
   "cell_type": "code",
   "execution_count": 134,
   "metadata": {},
   "outputs": [],
   "source": [
    "df=df.drop(columns='poutcome')"
   ]
  },
  {
   "cell_type": "code",
   "execution_count": 135,
   "metadata": {},
   "outputs": [
    {
     "data": {
      "text/plain": [
       "no     36202\n",
       "yes     4639\n",
       "Name: response, dtype: int64"
      ]
     },
     "execution_count": 135,
     "metadata": {},
     "output_type": "execute_result"
    }
   ],
   "source": [
    "# the response of the telemarketing campain is binary, so we need to change no(don't make term deposit) and \n",
    "# yes(make term deposit) to be 0 and 1\n",
    "df.response.value_counts()"
   ]
  },
  {
   "cell_type": "code",
   "execution_count": 136,
   "metadata": {},
   "outputs": [
    {
     "data": {
      "text/plain": [
       "no     36202\n",
       "yes     4639\n",
       "Name: response, dtype: int64"
      ]
     },
     "execution_count": 136,
     "metadata": {},
     "output_type": "execute_result"
    }
   ],
   "source": [
    "df['binaryresponse'] = np.where(df['response']=='no',0,1)\n",
    "df.response.value_counts()"
   ]
  },
  {
   "cell_type": "code",
   "execution_count": 137,
   "metadata": {},
   "outputs": [],
   "source": [
    "df=df.drop(columns=['response','response_binary'])"
   ]
  },
  {
   "cell_type": "code",
   "execution_count": 138,
   "metadata": {},
   "outputs": [
    {
     "data": {
      "text/plain": [
       "count    40841.000000\n",
       "mean      1073.981807\n",
       "std       1712.556186\n",
       "min      -6847.000000\n",
       "25%         64.000000\n",
       "50%        421.000000\n",
       "75%       1333.000000\n",
       "max      10443.000000\n",
       "Name: balance, dtype: float64"
      ]
     },
     "execution_count": 138,
     "metadata": {},
     "output_type": "execute_result"
    }
   ],
   "source": [
    "# balance is an important feature of people's bank accounts, let's take a look at this, as we can see below is the\n",
    "# balance information, generally balance of samples range from -6847 to 10443, but the standard deviation is 1712!\n",
    "# This std is high, so we are considering replace the extreme values as a part of data-cleaning. \n",
    "df.balance.describe()"
   ]
  },
  {
   "cell_type": "code",
   "execution_count": 10,
   "metadata": {},
   "outputs": [
    {
     "name": "stdout",
     "output_type": "stream",
     "text": [
      "lower end of 3 standard deviation: -4063.6867508336522 \n",
      " upper end of 3 standard deviation: 6211.650365828387\n"
     ]
    }
   ],
   "source": [
    "print('lower end of 3 standard deviation:', df['balance'].mean()-3*df['balance'].std(),'\\n',\n",
    "      'upper end of 3 standard deviation:', df['balance'].mean()+3*df['balance'].std())"
   ]
  },
  {
   "cell_type": "code",
   "execution_count": 11,
   "metadata": {},
   "outputs": [],
   "source": [
    "df['balance'] = np.where(df['balance'] < -4064, -4064, df['balance'])\n",
    "df['balance'] = np.where(df['balance'] > 6212, 6212, df['balance'])"
   ]
  },
  {
   "cell_type": "code",
   "execution_count": 12,
   "metadata": {},
   "outputs": [],
   "source": [
    "# As we are checking the other features, we do see there are some binary features, like the following 'default', \n",
    "# 'housing', 'loan', it is better for us to change these to 0 and 1 to make our dataframe more clean\n",
    "\n",
    "df['default'] = np.where(df.default == 'no', 0, 1)\n",
    "df['housing'] = np.where(df.housing == 'no', 0, 1)\n",
    "df['loan'] = np.where(df.loan == 'no', 0, 1)"
   ]
  },
  {
   "cell_type": "code",
   "execution_count": 13,
   "metadata": {},
   "outputs": [
    {
     "data": {
      "text/plain": [
       "(34797, 34797, 34797)"
      ]
     },
     "execution_count": 13,
     "metadata": {},
     "output_type": "execute_result"
    }
   ],
   "source": [
    "# The column pdays mean the number of days that passed by after the client was last contacted from a previous \n",
    "# campaign, as we can see there are -1 values in this column, we need to analyze why this happens: \n",
    "len(df[df.pdays==-1]), len(df[df.previous==0]), len(df[(df.pdays==-1) & (df.previous==0)])"
   ]
  },
  {
   "cell_type": "code",
   "execution_count": 140,
   "metadata": {},
   "outputs": [],
   "source": [
    "# As we can see when there is no previous contacts, pdays is -1, this means that this is the overall first time \n",
    "# of contacting this client, so we can change this pdays to be 0\n",
    "df['pdays'] = np.where(df['pdays'] == -1, 0, df['pdays'])"
   ]
  },
  {
   "cell_type": "code",
   "execution_count": 15,
   "metadata": {},
   "outputs": [
    {
     "data": {
      "text/html": [
       "<div>\n",
       "<style scoped>\n",
       "    .dataframe tbody tr th:only-of-type {\n",
       "        vertical-align: middle;\n",
       "    }\n",
       "\n",
       "    .dataframe tbody tr th {\n",
       "        vertical-align: top;\n",
       "    }\n",
       "\n",
       "    .dataframe thead th {\n",
       "        text-align: right;\n",
       "    }\n",
       "</style>\n",
       "<table border=\"1\" class=\"dataframe\">\n",
       "  <thead>\n",
       "    <tr style=\"text-align: right;\">\n",
       "      <th></th>\n",
       "      <th>age</th>\n",
       "      <th>job</th>\n",
       "      <th>marital</th>\n",
       "      <th>education</th>\n",
       "      <th>default</th>\n",
       "      <th>balance</th>\n",
       "      <th>housing</th>\n",
       "      <th>loan</th>\n",
       "      <th>day</th>\n",
       "      <th>month</th>\n",
       "      <th>duration</th>\n",
       "      <th>campaign</th>\n",
       "      <th>pdays</th>\n",
       "      <th>previous</th>\n",
       "      <th>binaryresponse</th>\n",
       "    </tr>\n",
       "  </thead>\n",
       "  <tbody>\n",
       "    <tr>\n",
       "      <td>0</td>\n",
       "      <td>58</td>\n",
       "      <td>management</td>\n",
       "      <td>married</td>\n",
       "      <td>tertiary</td>\n",
       "      <td>0</td>\n",
       "      <td>2143</td>\n",
       "      <td>1</td>\n",
       "      <td>0</td>\n",
       "      <td>5</td>\n",
       "      <td>may</td>\n",
       "      <td>4.35</td>\n",
       "      <td>1</td>\n",
       "      <td>0</td>\n",
       "      <td>0</td>\n",
       "      <td>0</td>\n",
       "    </tr>\n",
       "    <tr>\n",
       "      <td>1</td>\n",
       "      <td>44</td>\n",
       "      <td>technician</td>\n",
       "      <td>single</td>\n",
       "      <td>secondary</td>\n",
       "      <td>0</td>\n",
       "      <td>29</td>\n",
       "      <td>1</td>\n",
       "      <td>0</td>\n",
       "      <td>5</td>\n",
       "      <td>may</td>\n",
       "      <td>2.52</td>\n",
       "      <td>1</td>\n",
       "      <td>0</td>\n",
       "      <td>0</td>\n",
       "      <td>0</td>\n",
       "    </tr>\n",
       "    <tr>\n",
       "      <td>2</td>\n",
       "      <td>33</td>\n",
       "      <td>entrepreneur</td>\n",
       "      <td>married</td>\n",
       "      <td>secondary</td>\n",
       "      <td>0</td>\n",
       "      <td>2</td>\n",
       "      <td>1</td>\n",
       "      <td>1</td>\n",
       "      <td>5</td>\n",
       "      <td>may</td>\n",
       "      <td>1.27</td>\n",
       "      <td>1</td>\n",
       "      <td>0</td>\n",
       "      <td>0</td>\n",
       "      <td>0</td>\n",
       "    </tr>\n",
       "    <tr>\n",
       "      <td>5</td>\n",
       "      <td>35</td>\n",
       "      <td>management</td>\n",
       "      <td>married</td>\n",
       "      <td>tertiary</td>\n",
       "      <td>0</td>\n",
       "      <td>231</td>\n",
       "      <td>1</td>\n",
       "      <td>0</td>\n",
       "      <td>5</td>\n",
       "      <td>may</td>\n",
       "      <td>2.32</td>\n",
       "      <td>1</td>\n",
       "      <td>0</td>\n",
       "      <td>0</td>\n",
       "      <td>0</td>\n",
       "    </tr>\n",
       "    <tr>\n",
       "      <td>6</td>\n",
       "      <td>28</td>\n",
       "      <td>management</td>\n",
       "      <td>single</td>\n",
       "      <td>tertiary</td>\n",
       "      <td>0</td>\n",
       "      <td>447</td>\n",
       "      <td>1</td>\n",
       "      <td>1</td>\n",
       "      <td>5</td>\n",
       "      <td>may</td>\n",
       "      <td>3.62</td>\n",
       "      <td>1</td>\n",
       "      <td>0</td>\n",
       "      <td>0</td>\n",
       "      <td>0</td>\n",
       "    </tr>\n",
       "  </tbody>\n",
       "</table>\n",
       "</div>"
      ],
      "text/plain": [
       "   age           job  marital  education  default  balance  housing  loan  \\\n",
       "0   58    management  married   tertiary        0     2143        1     0   \n",
       "1   44    technician   single  secondary        0       29        1     0   \n",
       "2   33  entrepreneur  married  secondary        0        2        1     1   \n",
       "5   35    management  married   tertiary        0      231        1     0   \n",
       "6   28    management   single   tertiary        0      447        1     1   \n",
       "\n",
       "   day month  duration  campaign  pdays  previous  binaryresponse  \n",
       "0    5   may      4.35         1      0         0               0  \n",
       "1    5   may      2.52         1      0         0               0  \n",
       "2    5   may      1.27         1      0         0               0  \n",
       "5    5   may      2.32         1      0         0               0  \n",
       "6    5   may      3.62         1      0         0               0  "
      ]
     },
     "execution_count": 15,
     "metadata": {},
     "output_type": "execute_result"
    }
   ],
   "source": [
    "df.head()"
   ]
  },
  {
   "cell_type": "markdown",
   "metadata": {},
   "source": [
    "## 2. Exploratory Data Analysis, descriptive statistics"
   ]
  },
  {
   "cell_type": "markdown",
   "metadata": {},
   "source": [
    "### 2.1 Analysis and visualization of the target variable"
   ]
  },
  {
   "cell_type": "code",
   "execution_count": 16,
   "metadata": {},
   "outputs": [
    {
     "name": "stdout",
     "output_type": "stream",
     "text": [
      "Target Variable: response\n",
      "0    0.886413\n",
      "1    0.113587\n",
      "Name: binaryresponse, dtype: float64\n"
     ]
    },
    {
     "data": {
      "text/plain": [
       "Text(0.5, 0, 'binaryresponse')"
      ]
     },
     "execution_count": 16,
     "metadata": {},
     "output_type": "execute_result"
    },
    {
     "data": {
      "image/png": "[encoded data removed]",
      "text/plain": [
       "<Figure size 720x360 with 1 Axes>"
      ]
     },
     "metadata": {},
     "output_type": "display_data"
    }
   ],
   "source": [
    "print('Target Variable: response')\n",
    "print(df.binaryresponse.value_counts(normalize=True))\n",
    "\n",
    "sns.set_style('whitegrid')\n",
    "plt.figure(figsize=(10,5))\n",
    "sns.countplot(df.binaryresponse, alpha=0.8, palette=['lightgrey','forestgreen'])\n",
    "plt.title('no response vs response', fontsize=18, color='royalblue')\n",
    "plt.ylabel('bank clients', fontsize=18, color = 'royalblue')\n",
    "plt.xlabel('binaryresponse', fontsize=18, color = 'royalblue')"
   ]
  },
  {
   "cell_type": "markdown",
   "metadata": {},
   "source": [
    "__As we can see from the above plot (no response vs response), the clients who responsed only consist 11.36% of the total bank clients. The above plot is very consistant with bank telemarketing business, when commercial bank staff make phone calls to clients to promote the term deposit (CD or money market), only few clients will seriously consider that and finally do that. I am a person who always say that \"I am in meeting\" when I pick up phone realizing that call is from the bank trying to promote.__\n",
    "\n",
    "__This is a typical highly imbalanced classification target.__"
   ]
  },
  {
   "cell_type": "markdown",
   "metadata": {},
   "source": [
    "### 2.2 Can contacts improve the success rate?"
   ]
  },
  {
   "cell_type": "code",
   "execution_count": 17,
   "metadata": {},
   "outputs": [
    {
     "data": {
      "text/plain": [
       "count    40841.000000\n",
       "mean         0.436791\n",
       "std          1.572342\n",
       "min          0.000000\n",
       "25%          0.000000\n",
       "50%          0.000000\n",
       "75%          0.000000\n",
       "max         55.000000\n",
       "Name: previous, dtype: float64"
      ]
     },
     "execution_count": 17,
     "metadata": {},
     "output_type": "execute_result"
    }
   ],
   "source": [
    "df.previous.describe()"
   ]
  },
  {
   "cell_type": "code",
   "execution_count": 18,
   "metadata": {
    "scrolled": true
   },
   "outputs": [],
   "source": [
    "pre_contacts = ['0', '1', '2-5', '6-10', '11-15', 'beyond 15']\n",
    "pre_rate = [df[df.previous<1].binaryresponse.mean(),\n",
    "df[df.previous==1].binaryresponse.mean(),\n",
    "df[(df.previous>1)&(df.previous<=5)].binaryresponse.mean(),\n",
    "df[(df.previous>5)&(df.previous<=10)].binaryresponse.mean(),\n",
    "df[(df.previous>10)&(df.previous<=15)].binaryresponse.mean(),\n",
    "df[df.previous>15].binaryresponse.mean()]\n",
    "pre_dict = dict(zip(pre_contacts, pre_rate))"
   ]
  },
  {
   "cell_type": "code",
   "execution_count": 19,
   "metadata": {
    "scrolled": false
   },
   "outputs": [
    {
     "data": {
      "text/plain": [
       "Text(0, 0.5, 'positive rate')"
      ]
     },
     "execution_count": 19,
     "metadata": {},
     "output_type": "execute_result"
    },
    {
     "data": {
      "image/png": "[encoded data removed]",
      "text/plain": [
       "<Figure size 864x576 with 1 Axes>"
      ]
     },
     "metadata": {},
     "output_type": "display_data"
    }
   ],
   "source": [
    "plt.figure(figsize=(12,8))\n",
    "sns.barplot(x='pre_contacts',y='pre_rate',\n",
    "            data=pd.DataFrame(pre_dict.items(),columns=['pre_contacts','pre_rate']))\n",
    "plt.title('success rate vs previous contact times', fontsize=18)\n",
    "plt.xlabel('previous contact times', fontsize=16)\n",
    "plt.ylabel('positive rate', fontsize=16)"
   ]
  },
  {
   "cell_type": "markdown",
   "metadata": {},
   "source": [
    "__Is client more likely to make response if a bank teller calls the client more times? The above plot tell us this. As we can see from this graph, 0 times has the lowest positive response rate, this makes perfect sense because if you didn't contact people before, no relationship established bofore, they are not likely to make positive response. As the number of previous contacts goes up, response rate goes up, but when contacts is beyond 10 times, the response rate goes down. This tells us that if bank teller has called more, clients are more likely to be persuaded to make positive response, but, if bank has previously called too many times, that means this client is not interested at all or getting annoyed by the telephone marketing. If the bank previously called more than 15 times, bank shall consider give up this client and not to waste more time.__"
   ]
  },
  {
   "cell_type": "markdown",
   "metadata": {},
   "source": [
    "### 2.3 How does different education level affect the target response rate?"
   ]
  },
  {
   "cell_type": "code",
   "execution_count": 20,
   "metadata": {},
   "outputs": [
    {
     "data": {
      "text/plain": [
       "secondary    0.542898\n",
       "tertiary     0.291890\n",
       "primary      0.165212\n",
       "Name: education, dtype: float64"
      ]
     },
     "execution_count": 20,
     "metadata": {},
     "output_type": "execute_result"
    }
   ],
   "source": [
    "df[df.binaryresponse == 0].education.value_counts(normalize=True)"
   ]
  },
  {
   "cell_type": "code",
   "execution_count": 21,
   "metadata": {},
   "outputs": [
    {
     "data": {
      "text/plain": [
       "secondary    0.491270\n",
       "tertiary     0.390817\n",
       "primary      0.117913\n",
       "Name: education, dtype: float64"
      ]
     },
     "execution_count": 21,
     "metadata": {},
     "output_type": "execute_result"
    }
   ],
   "source": [
    "df[df.binaryresponse == 1].education.value_counts(normalize=True)"
   ]
  },
  {
   "cell_type": "code",
   "execution_count": 22,
   "metadata": {
    "scrolled": false
   },
   "outputs": [
    {
     "data": {
      "text/plain": [
       "Text(0.5, 1.0, 'Response')"
      ]
     },
     "execution_count": 22,
     "metadata": {},
     "output_type": "execute_result"
    },
    {
     "data": {
      "image/png": "[encoded data removed]",
      "text/plain": [
       "<Figure size 1152x576 with 2 Axes>"
      ]
     },
     "metadata": {},
     "output_type": "display_data"
    }
   ],
   "source": [
    "fig=plt.figure(figsize=(16,8))\n",
    "\n",
    "ax1 = fig.add_subplot(121)\n",
    "ax1.pie(df[df.binaryresponse==0].education.value_counts().values, \n",
    "        labels=df[df.binaryresponse==0].education.value_counts().index, explode=[0.1,0,0],autopct='%1.2f%%',\n",
    "        shadow=True,startangle=90,textprops={'size':'larger','color':'purple'});\n",
    "plt.title('No Response', fontsize=20, color = 'blue')\n",
    "\n",
    "ax2 = fig.add_subplot(122)\n",
    "ax2.pie(df[df.binaryresponse==1].education.value_counts().values, \n",
    "        labels=df[df.binaryresponse==1].education.value_counts().index, explode=[0.1,0,0],autopct='%1.2f%%',\n",
    "        shadow=True,startangle=90,textprops={'size':'larger','color':'black'});\n",
    "plt.title('Response', fontsize=20, color = 'blue')"
   ]
  },
  {
   "cell_type": "code",
   "execution_count": 23,
   "metadata": {},
   "outputs": [
    {
     "data": {
      "text/plain": [
       "(0.1464458804523425, 0.10390735421510965, 0.08379289215686274)"
      ]
     },
     "execution_count": 23,
     "metadata": {},
     "output_type": "execute_result"
    }
   ],
   "source": [
    "df[df.education=='tertiary'].binaryresponse.mean(), df[df.education=='secondary'].binaryresponse.mean(), df[df.education=='primary'].binaryresponse.mean()"
   ]
  },
  {
   "cell_type": "markdown",
   "metadata": {},
   "source": [
    "__Comparing the 2 plots above, we can see there is significant increase in portion of client with high education from no-response to response. Although middle-education-level clients has a large portion(this is because the population of middle-education-level has most population), as it moves from no-response to response, both low-education-level and middle-education-level shrink, and high-education-level clients portion expands. This indicates that banktelemarketing shall focus more on high-education-level clients, shall not focus on clients with least education. (There are 3 education levels for all clients, primary is the lowest refering to before high school; secondary refers to highschool level and tertiary refers to college degrees or post-graduate)__"
   ]
  },
  {
   "cell_type": "code",
   "execution_count": 24,
   "metadata": {},
   "outputs": [
    {
     "data": {
      "text/plain": [
       "(0.146290308485537, 0.09792622052676433, 0.11603952070632752)"
      ]
     },
     "execution_count": 24,
     "metadata": {},
     "output_type": "execute_result"
    }
   ],
   "source": [
    "df[df['marital']=='single'].binaryresponse.mean(), df[df['marital']=='married'].binaryresponse.mean(), df[df['marital']=='divorced'].binaryresponse.mean()"
   ]
  },
  {
   "cell_type": "markdown",
   "metadata": {},
   "source": [
    "### 2.4 How different age people response to bank telemarketing"
   ]
  },
  {
   "cell_type": "code",
   "execution_count": 25,
   "metadata": {},
   "outputs": [
    {
     "data": {
      "text/plain": [
       "count    40841.000000\n",
       "mean        40.790676\n",
       "std         10.475473\n",
       "min         18.000000\n",
       "25%         33.000000\n",
       "50%         39.000000\n",
       "75%         48.000000\n",
       "max         95.000000\n",
       "Name: age, dtype: float64"
      ]
     },
     "execution_count": 25,
     "metadata": {},
     "output_type": "execute_result"
    }
   ],
   "source": [
    "df.age.describe()"
   ]
  },
  {
   "cell_type": "code",
   "execution_count": 26,
   "metadata": {
    "scrolled": false
   },
   "outputs": [
    {
     "data": {
      "text/plain": [
       "Text(0, 0.5, 'success rate')"
      ]
     },
     "execution_count": 26,
     "metadata": {},
     "output_type": "execute_result"
    },
    {
     "data": {
      "image/png": "[encoded data removed]",
      "text/plain": [
       "<Figure size 1152x576 with 1 Axes>"
      ]
     },
     "metadata": {},
     "output_type": "display_data"
    }
   ],
   "source": [
    "plt.figure(figsize=(16,8))\n",
    "df.groupby('age').binaryresponse.mean().plot(kind='bar', color='navy')\n",
    "plt.title('success rate for different ages', fontsize = 20, c='blue')\n",
    "plt.xlabel('age', fontsize=20)\n",
    "plt.ylabel('success rate', fontsize=20)"
   ]
  },
  {
   "cell_type": "code",
   "execution_count": 27,
   "metadata": {
    "scrolled": false
   },
   "outputs": [
    {
     "data": {
      "text/plain": [
       "Text(0, 0.5, 'Percentage')"
      ]
     },
     "execution_count": 27,
     "metadata": {},
     "output_type": "execute_result"
    },
    {
     "data": {
      "image/png": "[encoded data removed]",
      "text/plain": [
       "<Figure size 1152x576 with 1 Axes>"
      ]
     },
     "metadata": {},
     "output_type": "display_data"
    }
   ],
   "source": [
    "plt.figure(figsize=(16,8))\n",
    "sns.set_style('whitegrid')\n",
    "sns.distplot(df[df.binaryresponse==1].age, norm_hist=True)\n",
    "plt.title('Age distribution of clients who make term deposit', fontsize=20, c='darkorchid')\n",
    "plt.xlabel('Age', fontsize=16)\n",
    "plt.ylabel('Percentage', fontsize=16)"
   ]
  },
  {
   "cell_type": "code",
   "execution_count": 28,
   "metadata": {},
   "outputs": [
    {
     "data": {
      "text/plain": [
       "Text(0, 0.5, 'Percentage')"
      ]
     },
     "execution_count": 28,
     "metadata": {},
     "output_type": "execute_result"
    },
    {
     "data": {
      "image/png": "[encoded data removed]",
      "text/plain": [
       "<Figure size 1152x576 with 1 Axes>"
      ]
     },
     "metadata": {},
     "output_type": "display_data"
    }
   ],
   "source": [
    "plt.figure(figsize=(16,8))\n",
    "sns.set_style('whitegrid')\n",
    "sns.distplot(df[df.binaryresponse==0].age, norm_hist=True)\n",
    "plt.title('Age distribution of clients who dont make term deposit', fontsize=20, c='darkorchid')\n",
    "plt.xlabel('Age', fontsize=16)\n",
    "plt.ylabel('Percentage', fontsize=16)"
   ]
  },
  {
   "cell_type": "markdown",
   "metadata": {},
   "source": [
    "__There are 3 graphes above, first one is response rate with different ages, the second and third are the age distribution of client who make the term deposit and who don't. We can see that middle age people consist the majority of both who make the term deposit and who don't. This is because that the majority bank account owners are middle age people(between 24 to 60). Interestingly, middle age people has least positive response rate, clients with age between 31 to 59 has the least response rate. This means although there are more accounts with middle age clients, telemarketing success rate is low__"
   ]
  },
  {
   "cell_type": "markdown",
   "metadata": {},
   "source": [
    "### 2.5 How are the likelihood of people with different jobs to give positive response?"
   ]
  },
  {
   "cell_type": "code",
   "execution_count": 29,
   "metadata": {
    "scrolled": true
   },
   "outputs": [
    {
     "data": {
      "text/plain": [
       "job\n",
       "blue-collar      0.072345\n",
       "entrepreneur     0.081343\n",
       "services         0.087345\n",
       "housemaid        0.087903\n",
       "other            0.094937\n",
       "technician       0.108427\n",
       "self-employed    0.112266\n",
       "admin.           0.119660\n",
       "management       0.131349\n",
       "unemployed       0.156766\n",
       "retired          0.221782\n",
       "student          0.294630\n",
       "Name: binaryresponse, dtype: float64"
      ]
     },
     "execution_count": 29,
     "metadata": {},
     "output_type": "execute_result"
    }
   ],
   "source": [
    "df.groupby('job').binaryresponse.mean().sort_values()"
   ]
  },
  {
   "cell_type": "code",
   "execution_count": 30,
   "metadata": {
    "scrolled": false
   },
   "outputs": [
    {
     "data": {
      "text/plain": [
       "Text(0.5, 1.0, 'Response Proportion for various job types')"
      ]
     },
     "execution_count": 30,
     "metadata": {},
     "output_type": "execute_result"
    },
    {
     "data": {
      "image/png": "[encoded data removed]",
      "text/plain": [
       "<Figure size 864x576 with 1 Axes>"
      ]
     },
     "metadata": {},
     "output_type": "display_data"
    }
   ],
   "source": [
    "plt.figure(figsize=(12,8))\n",
    "ax = sns.barplot(x=df.groupby('job').binaryresponse.mean().sort_values().index,\n",
    "                 y=df.groupby('job').binaryresponse.mean().sort_values().values)\n",
    "plt.xlabel('various jobs', fontsize=20, color='darkviolet')\n",
    "plt.ylabel('response percentage', fontsize=20, color='darkviolet')\n",
    "plt.title('Response Proportion for various job types', fontsize=20, color='darkviolet')"
   ]
  },
  {
   "cell_type": "markdown",
   "metadata": {},
   "source": [
    "This graph shows the response rate per job type. The clients that are students or retired both have significantly higher response rates compared to other job types. This trend is due to the notion that term deposits being ideal for those looking for income or financial security. For example a student may want to invest in a term deposit while they are in school until they have start paying tuition after graduation. Conversely, those that are employed are likely to have investments in other resources instead of just term deposits."
   ]
  },
  {
   "cell_type": "markdown",
   "metadata": {},
   "source": [
    "### 2.6 People start saving in different periods in a year!"
   ]
  },
  {
   "cell_type": "code",
   "execution_count": 31,
   "metadata": {},
   "outputs": [],
   "source": [
    "m = {'jan':1, 'feb':2, 'mar':3, 'apr':4, 'may':5, 'jun':6, 'jul':7, 'aug':8, 'sep':9, 'oct':10, 'nov':11, 'dec':12}"
   ]
  },
  {
   "cell_type": "code",
   "execution_count": 32,
   "metadata": {},
   "outputs": [],
   "source": [
    "df1['month_num'] = df1.month.map(m)"
   ]
  },
  {
   "cell_type": "code",
   "execution_count": 33,
   "metadata": {
    "scrolled": false
   },
   "outputs": [
    {
     "data": {
      "text/plain": [
       "Text(0, 0.5, 'Response Rate')"
      ]
     },
     "execution_count": 33,
     "metadata": {},
     "output_type": "execute_result"
    },
    {
     "data": {
      "image/png": "[encoded data removed]",
      "text/plain": [
       "<Figure size 864x576 with 1 Axes>"
      ]
     },
     "metadata": {},
     "output_type": "display_data"
    }
   ],
   "source": [
    "plt.figure(figsize=(12,8))\n",
    "sns.barplot(x='month_num',y='response_binary',\n",
    "            data= df1)\n",
    "plt.title('Response Rate per Month', fontsize=18)\n",
    "plt.xlabel('Last Contact Month', fontsize=16)\n",
    "plt.ylabel('Response Rate', fontsize=16)"
   ]
  },
  {
   "cell_type": "markdown",
   "metadata": {},
   "source": [
    "You can see from this plot that there are certain periods of time people are more likely start to save. (1) At the beginning of a year, after people pay off the credit card on fire after December, March is a point that people start to save. (2) After the summer, more people are likely to start saving for next year. "
   ]
  },
  {
   "cell_type": "markdown",
   "metadata": {},
   "source": [
    "## 3. Hypothesis test and analysis"
   ]
  },
  {
   "cell_type": "markdown",
   "metadata": {},
   "source": [
    "### 3.1 Is there statistically significant difference in account balance with clients in different occupations?\n",
    "- Ho: There is no statistically significant difference in account balance with clients in different occupations.\n",
    "- Ha: There is significant difference in account balance with clients in different occupations."
   ]
  },
  {
   "cell_type": "code",
   "execution_count": 34,
   "metadata": {},
   "outputs": [
    {
     "data": {
      "text/plain": [
       "array(['management', 'technician', 'entrepreneur', 'retired', 'admin.',\n",
       "       'services', 'blue-collar', 'self-employed', 'unemployed',\n",
       "       'housemaid', 'student', 'other'], dtype=object)"
      ]
     },
     "execution_count": 34,
     "metadata": {},
     "output_type": "execute_result"
    }
   ],
   "source": [
    "df.job.unique()"
   ]
  },
  {
   "cell_type": "code",
   "execution_count": 35,
   "metadata": {},
   "outputs": [
    {
     "data": {
      "text/plain": [
       "F_onewayResult(statistic=39.01178577434871, pvalue=1.159117185537788e-84)"
      ]
     },
     "execution_count": 35,
     "metadata": {},
     "output_type": "execute_result"
    }
   ],
   "source": [
    "from scipy import stats\n",
    "stats.f_oneway(df['balance'][df['job'] == 'management'],\n",
    "                df['balance'][df['job'] == 'technician'],\n",
    "                df['balance'][df['job'] == 'entrepreneur'],\n",
    "                df['balance'][df['job'] == 'retired'],\n",
    "                df['balance'][df['job'] == 'admin.'],\n",
    "                df['balance'][df['job'] == 'services'],\n",
    "                df['balance'][df['job'] == 'blue-collar'],\n",
    "                df['balance'][df['job'] == 'self-employed'],\n",
    "                df['balance'][df['job'] == 'unemployed'],\n",
    "                df['balance'][df['job'] == 'housemaid'],\n",
    "                df['balance'][df['job'] == 'student'],\n",
    "                df['balance'][df['job'] == 'other'])"
   ]
  },
  {
   "cell_type": "markdown",
   "metadata": {},
   "source": [
    "__Conclusion:__ We can see that test statistic and P value are in rejection region. So Null hypothesis can be rejected, we can conclude that there is statistically significant difference in account balance with clients in different occupations. This hypothesis test result is consistent with previous visualization 2.5 in Exploratory Data Analysis. \n",
    "__This fact is generally true in US, we can see this is also true in Portugal.__"
   ]
  },
  {
   "cell_type": "markdown",
   "metadata": {},
   "source": [
    "### 3.2 Will different marital status affect clients' decision to make term deposit?\n",
    "\n",
    "- Ho: There is no association or relationship between clients' marital status and their willingness to make term deposit,\n",
    "- Ha: There is association or relationship between clients' marital status and clients' willingness to make term deposit."
   ]
  },
  {
   "cell_type": "code",
   "execution_count": 36,
   "metadata": {},
   "outputs": [
    {
     "data": {
      "text/plain": [
       "married     24641\n",
       "single      11443\n",
       "divorced     4757\n",
       "Name: marital, dtype: int64"
      ]
     },
     "execution_count": 36,
     "metadata": {},
     "output_type": "execute_result"
    }
   ],
   "source": [
    "df.marital.value_counts()"
   ]
  },
  {
   "cell_type": "code",
   "execution_count": 37,
   "metadata": {},
   "outputs": [
    {
     "name": "stdout",
     "output_type": "stream",
     "text": [
      "stat_m=181.859, p_m=0.000\n",
      "Probably dependent\n",
      "[[married     22228\n",
      "single       9769\n",
      "divorced     4205\n",
      "Name: marital, dtype: int64], [married     2413\n",
      "single      1674\n",
      "divorced     552\n",
      "Name: marital, dtype: int64]]\n"
     ]
    }
   ],
   "source": [
    "from scipy.stats import chi2_contingency\n",
    "table=[[df[df['binaryresponse'] == 0]['marital'].value_counts()],\n",
    "       [df[df['binaryresponse'] == 1]['marital'].value_counts()]]\n",
    "stat_m, p_m, dof_m, expected_m = chi2_contingency(table)\n",
    "print('stat_m=%.3f, p_m=%.3f' % (stat_m, p_m))\n",
    "if p_m > 0.05:\n",
    "    print('Probably independent')\n",
    "else:\n",
    "    print('Probably dependent')\n",
    "print(table)"
   ]
  },
  {
   "cell_type": "markdown",
   "metadata": {},
   "source": [
    "__Conclusion:__ We can see that test statistic and P value are in rejection region. So Null hypothesis can be rejected, we can conclude that there is association between the distributions of clients' marital status and their willingness to make term deposit. \n",
    "__This hypothesis result make sense because married people are definitely different in money saving behavior than people not in marriage.__"
   ]
  },
  {
   "cell_type": "markdown",
   "metadata": {},
   "source": [
    "## 4. Preprocessing & feature engineering"
   ]
  },
  {
   "cell_type": "markdown",
   "metadata": {},
   "source": [
    "### 4.1 'age' feature engineering\n",
    "\n",
    "__As previously showed in Exploratory Data Analysis section 2.4 plot,__ likelihood of people to response varies with ages. Middle age people has least positive response rate and it is showed that different age groups has different response rate (middle age people from 30 to 59 have almost same level of response rate). Thus, although age is continuous variable, it is better to make the continuous age value to several groups."
   ]
  },
  {
   "cell_type": "code",
   "execution_count": 38,
   "metadata": {
    "scrolled": false
   },
   "outputs": [
    {
     "data": {
      "text/plain": [
       "Text(0, 0.5, 'response')"
      ]
     },
     "execution_count": 38,
     "metadata": {},
     "output_type": "execute_result"
    },
    {
     "data": {
      "image/png": "[encoded data removed]",
      "text/plain": [
       "<Figure size 432x288 with 1 Axes>"
      ]
     },
     "metadata": {},
     "output_type": "display_data"
    }
   ],
   "source": [
    "df['age_group'] = pd.cut(df['age'], [17, 25, 35, 45, 55, 65, 100], \n",
    "                         labels=['18-25', '26-35', '36-45', '46-55', '56-65', '65+'])\n",
    "ax = sns.barplot(x='age_group', y=df['binaryresponse'], data=df)\n",
    "ax.set_title('Response Rate per Age Group', fontsize=20)\n",
    "plt.xlabel('age_group', fontsize=20)\n",
    "plt.ylabel('response', fontsize=20)"
   ]
  },
  {
   "cell_type": "markdown",
   "metadata": {},
   "source": [
    "### 4.2 Contact times feature engineering\n",
    "\n",
    "For contact times ('previous') feature, we can see from the above __Exploratory Data Analysis section 2.2 plot__ that it does not have continuous influence to the target variable, but different range of previous contact times are likely to give different response result. Thus, it is better to engineer this feature to several group intervals: 0, 1, 2-5, 6-10, 11-15, beyond 15. This make more sense than just using the 'Previous' as continuous variables from 0 all the way to 55."
   ]
  },
  {
   "cell_type": "code",
   "execution_count": 39,
   "metadata": {},
   "outputs": [],
   "source": [
    "df['pre_contact'] = pd.cut(df['previous'], [-1,0,1,5,10,15,100],\n",
    "                          labels=['0','1','2-5','6-10','11-15','beyond 15'])"
   ]
  },
  {
   "cell_type": "markdown",
   "metadata": {},
   "source": [
    "### 4.3 'month' feature engineering\n",
    "\n",
    "- When it comes to the month feature, we can see that this is 12 categorical values. After analyzing the following statistics of the different months with different response rate, it is clear that months can be divided into groups with similarity in response rates. Some months have significant high response rate (like 'sep', 'oct' and 'dec' and they are close to each other), while some months have significant lower response rate (like 'jan', 'jun', 'aug' and 'nov', they are all very close around 0.10 response rate). This shall be related to different time period during the year that Portuguese people are more likely to save. \n",
    "\n",
    "__So, it makes sense to make this categorical feature to several groups before making dummy variables in next step__"
   ]
  },
  {
   "cell_type": "code",
   "execution_count": 40,
   "metadata": {
    "scrolled": true
   },
   "outputs": [
    {
     "data": {
      "text/plain": [
       "month\n",
       "apr    0.196125\n",
       "aug    0.104475\n",
       "dec    0.456647\n",
       "feb    0.172719\n",
       "jan    0.103128\n",
       "jul    0.084663\n",
       "jun    0.100968\n",
       "mar    0.542998\n",
       "may    0.066101\n",
       "nov    0.101637\n",
       "oct    0.449587\n",
       "sep    0.487965\n",
       "Name: binaryresponse, dtype: float64"
      ]
     },
     "execution_count": 40,
     "metadata": {},
     "output_type": "execute_result"
    }
   ],
   "source": [
    "df.groupby('month').binaryresponse.mean()"
   ]
  },
  {
   "cell_type": "code",
   "execution_count": 41,
   "metadata": {},
   "outputs": [],
   "source": [
    "df['m_group'] = df['month']\n",
    "df['m_group'] = np.where((df['month']=='may')|(df['month']=='jul'), '5_7', df['m_group'])\n",
    "df['m_group'] = np.where((df['month']=='jan')|(df['month']=='aug')|(df['month']=='jun')|(df['month']=='nov'),\n",
    "                            '1_6_8_11', df['m_group'])\n",
    "df['m_group'] = np.where((df['month']=='feb')|(df['month']=='apr'), '2_4', df['m_group'])\n",
    "df['m_group'] = np.where((df['month']=='sep')|(df['month']=='oct')|(df['month']=='dec'), '9_10_12', df['m_group'])\n",
    "df['m_group'] = np.where((df['month']=='mar'), '3', df['m_group'])"
   ]
  },
  {
   "cell_type": "markdown",
   "metadata": {},
   "source": [
    "### 4.4 'campaign' feature engineering\n",
    "\n",
    "For the 'campaign' feature, we can see from the following descriptive statistics that the response rate for 1-3 times call is above 0.1, rate decreases to range 0.07-0.09 for 4-11 times call, and decrease further above the 12 times. So we can group the 'campaign' feature to 5 groups: 1-3, 4-11, 12-17, beyond 18 times"
   ]
  },
  {
   "cell_type": "code",
   "execution_count": 42,
   "metadata": {
    "scrolled": false
   },
   "outputs": [
    {
     "name": "stdout",
     "output_type": "stream",
     "text": [
      "{1: 0.1428299974664302, 2: 0.10790730585529808, 3: 0.10799354057327412, 4: 0.08577599506325208, 5: 0.0784557907845579, 6: 0.0718562874251497, 7: 0.061633281972265024, 8: 0.06134969325153374, 9: 0.052083333333333336, 10: 0.05241935483870968, 11: 0.07777777777777778, 12: 0.027586206896551724, 13: 0.04878048780487805, 14: 0.047619047619047616, 15: 0.04878048780487805, 16: 0.02666666666666667, 17: 0.0625, 18: 0.0, 19: 0.0, 20: 0.02564102564102564, 21: 0.029411764705882353, 22: 0.0, 23: 0.0, 24: 0.05, 25: 0.0, 26: 0.0, 27: 0.0, 28: 0.0, 29: 0.07692307692307693, 30: 0.0, 31: 0.0, 32: 0.1111111111111111, 33: 0.0, 34: 0.0, 35: 0.0, 36: 0.0, 37: 0.0, 38: 0.0, 39: 0.0, 41: 0.0, 43: 0.0, 44: 0.0, 46: 0.0, 50: 0.0, 51: 0.0, 55: 0.0, 58: 0.0}\n"
     ]
    }
   ],
   "source": [
    "print(df.groupby('campaign').binaryresponse.mean().to_dict())"
   ]
  },
  {
   "cell_type": "code",
   "execution_count": 43,
   "metadata": {},
   "outputs": [],
   "source": [
    "df['cam_contact'] = pd.cut(df['campaign'], [-1,3,11,17,100],\n",
    "                          labels=['1-3','4-11','12-17','beyond 18'])"
   ]
  },
  {
   "cell_type": "code",
   "execution_count": 44,
   "metadata": {
    "scrolled": false
   },
   "outputs": [
    {
     "data": {
      "text/html": [
       "<div>\n",
       "<style scoped>\n",
       "    .dataframe tbody tr th:only-of-type {\n",
       "        vertical-align: middle;\n",
       "    }\n",
       "\n",
       "    .dataframe tbody tr th {\n",
       "        vertical-align: top;\n",
       "    }\n",
       "\n",
       "    .dataframe thead th {\n",
       "        text-align: right;\n",
       "    }\n",
       "</style>\n",
       "<table border=\"1\" class=\"dataframe\">\n",
       "  <thead>\n",
       "    <tr style=\"text-align: right;\">\n",
       "      <th></th>\n",
       "      <th>age</th>\n",
       "      <th>job</th>\n",
       "      <th>marital</th>\n",
       "      <th>education</th>\n",
       "      <th>default</th>\n",
       "      <th>balance</th>\n",
       "      <th>housing</th>\n",
       "      <th>loan</th>\n",
       "      <th>day</th>\n",
       "      <th>month</th>\n",
       "      <th>duration</th>\n",
       "      <th>campaign</th>\n",
       "      <th>pdays</th>\n",
       "      <th>previous</th>\n",
       "      <th>binaryresponse</th>\n",
       "      <th>age_group</th>\n",
       "      <th>pre_contact</th>\n",
       "      <th>m_group</th>\n",
       "      <th>cam_contact</th>\n",
       "    </tr>\n",
       "  </thead>\n",
       "  <tbody>\n",
       "    <tr>\n",
       "      <td>0</td>\n",
       "      <td>58</td>\n",
       "      <td>management</td>\n",
       "      <td>married</td>\n",
       "      <td>tertiary</td>\n",
       "      <td>0</td>\n",
       "      <td>2143</td>\n",
       "      <td>1</td>\n",
       "      <td>0</td>\n",
       "      <td>5</td>\n",
       "      <td>may</td>\n",
       "      <td>4.35</td>\n",
       "      <td>1</td>\n",
       "      <td>0</td>\n",
       "      <td>0</td>\n",
       "      <td>0</td>\n",
       "      <td>56-65</td>\n",
       "      <td>0</td>\n",
       "      <td>5_7</td>\n",
       "      <td>1-3</td>\n",
       "    </tr>\n",
       "    <tr>\n",
       "      <td>1</td>\n",
       "      <td>44</td>\n",
       "      <td>technician</td>\n",
       "      <td>single</td>\n",
       "      <td>secondary</td>\n",
       "      <td>0</td>\n",
       "      <td>29</td>\n",
       "      <td>1</td>\n",
       "      <td>0</td>\n",
       "      <td>5</td>\n",
       "      <td>may</td>\n",
       "      <td>2.52</td>\n",
       "      <td>1</td>\n",
       "      <td>0</td>\n",
       "      <td>0</td>\n",
       "      <td>0</td>\n",
       "      <td>36-45</td>\n",
       "      <td>0</td>\n",
       "      <td>5_7</td>\n",
       "      <td>1-3</td>\n",
       "    </tr>\n",
       "    <tr>\n",
       "      <td>2</td>\n",
       "      <td>33</td>\n",
       "      <td>entrepreneur</td>\n",
       "      <td>married</td>\n",
       "      <td>secondary</td>\n",
       "      <td>0</td>\n",
       "      <td>2</td>\n",
       "      <td>1</td>\n",
       "      <td>1</td>\n",
       "      <td>5</td>\n",
       "      <td>may</td>\n",
       "      <td>1.27</td>\n",
       "      <td>1</td>\n",
       "      <td>0</td>\n",
       "      <td>0</td>\n",
       "      <td>0</td>\n",
       "      <td>26-35</td>\n",
       "      <td>0</td>\n",
       "      <td>5_7</td>\n",
       "      <td>1-3</td>\n",
       "    </tr>\n",
       "    <tr>\n",
       "      <td>5</td>\n",
       "      <td>35</td>\n",
       "      <td>management</td>\n",
       "      <td>married</td>\n",
       "      <td>tertiary</td>\n",
       "      <td>0</td>\n",
       "      <td>231</td>\n",
       "      <td>1</td>\n",
       "      <td>0</td>\n",
       "      <td>5</td>\n",
       "      <td>may</td>\n",
       "      <td>2.32</td>\n",
       "      <td>1</td>\n",
       "      <td>0</td>\n",
       "      <td>0</td>\n",
       "      <td>0</td>\n",
       "      <td>26-35</td>\n",
       "      <td>0</td>\n",
       "      <td>5_7</td>\n",
       "      <td>1-3</td>\n",
       "    </tr>\n",
       "    <tr>\n",
       "      <td>6</td>\n",
       "      <td>28</td>\n",
       "      <td>management</td>\n",
       "      <td>single</td>\n",
       "      <td>tertiary</td>\n",
       "      <td>0</td>\n",
       "      <td>447</td>\n",
       "      <td>1</td>\n",
       "      <td>1</td>\n",
       "      <td>5</td>\n",
       "      <td>may</td>\n",
       "      <td>3.62</td>\n",
       "      <td>1</td>\n",
       "      <td>0</td>\n",
       "      <td>0</td>\n",
       "      <td>0</td>\n",
       "      <td>26-35</td>\n",
       "      <td>0</td>\n",
       "      <td>5_7</td>\n",
       "      <td>1-3</td>\n",
       "    </tr>\n",
       "  </tbody>\n",
       "</table>\n",
       "</div>"
      ],
      "text/plain": [
       "   age           job  marital  education  default  balance  housing  loan  \\\n",
       "0   58    management  married   tertiary        0     2143        1     0   \n",
       "1   44    technician   single  secondary        0       29        1     0   \n",
       "2   33  entrepreneur  married  secondary        0        2        1     1   \n",
       "5   35    management  married   tertiary        0      231        1     0   \n",
       "6   28    management   single   tertiary        0      447        1     1   \n",
       "\n",
       "   day month  duration  campaign  pdays  previous  binaryresponse age_group  \\\n",
       "0    5   may      4.35         1      0         0               0     56-65   \n",
       "1    5   may      2.52         1      0         0               0     36-45   \n",
       "2    5   may      1.27         1      0         0               0     26-35   \n",
       "5    5   may      2.32         1      0         0               0     26-35   \n",
       "6    5   may      3.62         1      0         0               0     26-35   \n",
       "\n",
       "  pre_contact m_group cam_contact  \n",
       "0           0     5_7         1-3  \n",
       "1           0     5_7         1-3  \n",
       "2           0     5_7         1-3  \n",
       "5           0     5_7         1-3  \n",
       "6           0     5_7         1-3  "
      ]
     },
     "execution_count": 44,
     "metadata": {},
     "output_type": "execute_result"
    }
   ],
   "source": [
    "df.head()"
   ]
  },
  {
   "cell_type": "markdown",
   "metadata": {},
   "source": [
    "### 4.5 Make dummy variables:"
   ]
  },
  {
   "cell_type": "code",
   "execution_count": 45,
   "metadata": {},
   "outputs": [],
   "source": [
    "df2 = pd.get_dummies(df, columns = ['job'], drop_first=True)\n",
    "df2 = pd.get_dummies(df2, columns = ['marital'], drop_first=True)\n",
    "df2 = pd.get_dummies(df2, columns = ['education'], drop_first=True)\n",
    "df2 = pd.get_dummies(df2, columns = ['age_group'], drop_first=True)\n",
    "df2 = pd.get_dummies(df2, columns = ['m_group'], drop_first=True)\n",
    "df2 = pd.get_dummies(df2, columns = ['pre_contact'], drop_first=True)\n",
    "df2 = pd.get_dummies(df2, columns = ['cam_contact'], drop_first=True)"
   ]
  },
  {
   "cell_type": "code",
   "execution_count": 46,
   "metadata": {
    "scrolled": true
   },
   "outputs": [
    {
     "data": {
      "text/html": [
       "<div>\n",
       "<style scoped>\n",
       "    .dataframe tbody tr th:only-of-type {\n",
       "        vertical-align: middle;\n",
       "    }\n",
       "\n",
       "    .dataframe tbody tr th {\n",
       "        vertical-align: top;\n",
       "    }\n",
       "\n",
       "    .dataframe thead th {\n",
       "        text-align: right;\n",
       "    }\n",
       "</style>\n",
       "<table border=\"1\" class=\"dataframe\">\n",
       "  <thead>\n",
       "    <tr style=\"text-align: right;\">\n",
       "      <th></th>\n",
       "      <th>age</th>\n",
       "      <th>default</th>\n",
       "      <th>balance</th>\n",
       "      <th>housing</th>\n",
       "      <th>loan</th>\n",
       "      <th>day</th>\n",
       "      <th>month</th>\n",
       "      <th>duration</th>\n",
       "      <th>campaign</th>\n",
       "      <th>pdays</th>\n",
       "      <th>previous</th>\n",
       "      <th>binaryresponse</th>\n",
       "      <th>job_blue-collar</th>\n",
       "      <th>job_entrepreneur</th>\n",
       "      <th>job_housemaid</th>\n",
       "      <th>job_management</th>\n",
       "      <th>job_other</th>\n",
       "      <th>job_retired</th>\n",
       "      <th>job_self-employed</th>\n",
       "      <th>job_services</th>\n",
       "      <th>job_student</th>\n",
       "      <th>job_technician</th>\n",
       "      <th>job_unemployed</th>\n",
       "      <th>marital_married</th>\n",
       "      <th>marital_single</th>\n",
       "      <th>education_secondary</th>\n",
       "      <th>education_tertiary</th>\n",
       "      <th>age_group_26-35</th>\n",
       "      <th>age_group_36-45</th>\n",
       "      <th>age_group_46-55</th>\n",
       "      <th>age_group_56-65</th>\n",
       "      <th>age_group_65+</th>\n",
       "      <th>m_group_2_4</th>\n",
       "      <th>m_group_3</th>\n",
       "      <th>m_group_5_7</th>\n",
       "      <th>m_group_9_10_12</th>\n",
       "      <th>pre_contact_1</th>\n",
       "      <th>pre_contact_2-5</th>\n",
       "      <th>pre_contact_6-10</th>\n",
       "      <th>pre_contact_11-15</th>\n",
       "      <th>pre_contact_beyond 15</th>\n",
       "      <th>cam_contact_4-11</th>\n",
       "      <th>cam_contact_12-17</th>\n",
       "      <th>cam_contact_beyond 18</th>\n",
       "    </tr>\n",
       "  </thead>\n",
       "  <tbody>\n",
       "    <tr>\n",
       "      <td>0</td>\n",
       "      <td>58</td>\n",
       "      <td>0</td>\n",
       "      <td>2143</td>\n",
       "      <td>1</td>\n",
       "      <td>0</td>\n",
       "      <td>5</td>\n",
       "      <td>may</td>\n",
       "      <td>4.35</td>\n",
       "      <td>1</td>\n",
       "      <td>0</td>\n",
       "      <td>0</td>\n",
       "      <td>0</td>\n",
       "      <td>0</td>\n",
       "      <td>0</td>\n",
       "      <td>0</td>\n",
       "      <td>1</td>\n",
       "      <td>0</td>\n",
       "      <td>0</td>\n",
       "      <td>0</td>\n",
       "      <td>0</td>\n",
       "      <td>0</td>\n",
       "      <td>0</td>\n",
       "      <td>0</td>\n",
       "      <td>1</td>\n",
       "      <td>0</td>\n",
       "      <td>0</td>\n",
       "      <td>1</td>\n",
       "      <td>0</td>\n",
       "      <td>0</td>\n",
       "      <td>0</td>\n",
       "      <td>1</td>\n",
       "      <td>0</td>\n",
       "      <td>0</td>\n",
       "      <td>0</td>\n",
       "      <td>1</td>\n",
       "      <td>0</td>\n",
       "      <td>0</td>\n",
       "      <td>0</td>\n",
       "      <td>0</td>\n",
       "      <td>0</td>\n",
       "      <td>0</td>\n",
       "      <td>0</td>\n",
       "      <td>0</td>\n",
       "      <td>0</td>\n",
       "    </tr>\n",
       "    <tr>\n",
       "      <td>1</td>\n",
       "      <td>44</td>\n",
       "      <td>0</td>\n",
       "      <td>29</td>\n",
       "      <td>1</td>\n",
       "      <td>0</td>\n",
       "      <td>5</td>\n",
       "      <td>may</td>\n",
       "      <td>2.52</td>\n",
       "      <td>1</td>\n",
       "      <td>0</td>\n",
       "      <td>0</td>\n",
       "      <td>0</td>\n",
       "      <td>0</td>\n",
       "      <td>0</td>\n",
       "      <td>0</td>\n",
       "      <td>0</td>\n",
       "      <td>0</td>\n",
       "      <td>0</td>\n",
       "      <td>0</td>\n",
       "      <td>0</td>\n",
       "      <td>0</td>\n",
       "      <td>1</td>\n",
       "      <td>0</td>\n",
       "      <td>0</td>\n",
       "      <td>1</td>\n",
       "      <td>1</td>\n",
       "      <td>0</td>\n",
       "      <td>0</td>\n",
       "      <td>1</td>\n",
       "      <td>0</td>\n",
       "      <td>0</td>\n",
       "      <td>0</td>\n",
       "      <td>0</td>\n",
       "      <td>0</td>\n",
       "      <td>1</td>\n",
       "      <td>0</td>\n",
       "      <td>0</td>\n",
       "      <td>0</td>\n",
       "      <td>0</td>\n",
       "      <td>0</td>\n",
       "      <td>0</td>\n",
       "      <td>0</td>\n",
       "      <td>0</td>\n",
       "      <td>0</td>\n",
       "    </tr>\n",
       "    <tr>\n",
       "      <td>2</td>\n",
       "      <td>33</td>\n",
       "      <td>0</td>\n",
       "      <td>2</td>\n",
       "      <td>1</td>\n",
       "      <td>1</td>\n",
       "      <td>5</td>\n",
       "      <td>may</td>\n",
       "      <td>1.27</td>\n",
       "      <td>1</td>\n",
       "      <td>0</td>\n",
       "      <td>0</td>\n",
       "      <td>0</td>\n",
       "      <td>0</td>\n",
       "      <td>1</td>\n",
       "      <td>0</td>\n",
       "      <td>0</td>\n",
       "      <td>0</td>\n",
       "      <td>0</td>\n",
       "      <td>0</td>\n",
       "      <td>0</td>\n",
       "      <td>0</td>\n",
       "      <td>0</td>\n",
       "      <td>0</td>\n",
       "      <td>1</td>\n",
       "      <td>0</td>\n",
       "      <td>1</td>\n",
       "      <td>0</td>\n",
       "      <td>1</td>\n",
       "      <td>0</td>\n",
       "      <td>0</td>\n",
       "      <td>0</td>\n",
       "      <td>0</td>\n",
       "      <td>0</td>\n",
       "      <td>0</td>\n",
       "      <td>1</td>\n",
       "      <td>0</td>\n",
       "      <td>0</td>\n",
       "      <td>0</td>\n",
       "      <td>0</td>\n",
       "      <td>0</td>\n",
       "      <td>0</td>\n",
       "      <td>0</td>\n",
       "      <td>0</td>\n",
       "      <td>0</td>\n",
       "    </tr>\n",
       "    <tr>\n",
       "      <td>5</td>\n",
       "      <td>35</td>\n",
       "      <td>0</td>\n",
       "      <td>231</td>\n",
       "      <td>1</td>\n",
       "      <td>0</td>\n",
       "      <td>5</td>\n",
       "      <td>may</td>\n",
       "      <td>2.32</td>\n",
       "      <td>1</td>\n",
       "      <td>0</td>\n",
       "      <td>0</td>\n",
       "      <td>0</td>\n",
       "      <td>0</td>\n",
       "      <td>0</td>\n",
       "      <td>0</td>\n",
       "      <td>1</td>\n",
       "      <td>0</td>\n",
       "      <td>0</td>\n",
       "      <td>0</td>\n",
       "      <td>0</td>\n",
       "      <td>0</td>\n",
       "      <td>0</td>\n",
       "      <td>0</td>\n",
       "      <td>1</td>\n",
       "      <td>0</td>\n",
       "      <td>0</td>\n",
       "      <td>1</td>\n",
       "      <td>1</td>\n",
       "      <td>0</td>\n",
       "      <td>0</td>\n",
       "      <td>0</td>\n",
       "      <td>0</td>\n",
       "      <td>0</td>\n",
       "      <td>0</td>\n",
       "      <td>1</td>\n",
       "      <td>0</td>\n",
       "      <td>0</td>\n",
       "      <td>0</td>\n",
       "      <td>0</td>\n",
       "      <td>0</td>\n",
       "      <td>0</td>\n",
       "      <td>0</td>\n",
       "      <td>0</td>\n",
       "      <td>0</td>\n",
       "    </tr>\n",
       "    <tr>\n",
       "      <td>6</td>\n",
       "      <td>28</td>\n",
       "      <td>0</td>\n",
       "      <td>447</td>\n",
       "      <td>1</td>\n",
       "      <td>1</td>\n",
       "      <td>5</td>\n",
       "      <td>may</td>\n",
       "      <td>3.62</td>\n",
       "      <td>1</td>\n",
       "      <td>0</td>\n",
       "      <td>0</td>\n",
       "      <td>0</td>\n",
       "      <td>0</td>\n",
       "      <td>0</td>\n",
       "      <td>0</td>\n",
       "      <td>1</td>\n",
       "      <td>0</td>\n",
       "      <td>0</td>\n",
       "      <td>0</td>\n",
       "      <td>0</td>\n",
       "      <td>0</td>\n",
       "      <td>0</td>\n",
       "      <td>0</td>\n",
       "      <td>0</td>\n",
       "      <td>1</td>\n",
       "      <td>0</td>\n",
       "      <td>1</td>\n",
       "      <td>1</td>\n",
       "      <td>0</td>\n",
       "      <td>0</td>\n",
       "      <td>0</td>\n",
       "      <td>0</td>\n",
       "      <td>0</td>\n",
       "      <td>0</td>\n",
       "      <td>1</td>\n",
       "      <td>0</td>\n",
       "      <td>0</td>\n",
       "      <td>0</td>\n",
       "      <td>0</td>\n",
       "      <td>0</td>\n",
       "      <td>0</td>\n",
       "      <td>0</td>\n",
       "      <td>0</td>\n",
       "      <td>0</td>\n",
       "    </tr>\n",
       "  </tbody>\n",
       "</table>\n",
       "</div>"
      ],
      "text/plain": [
       "   age  default  balance  housing  loan  day month  duration  campaign  pdays  \\\n",
       "0   58        0     2143        1     0    5   may      4.35         1      0   \n",
       "1   44        0       29        1     0    5   may      2.52         1      0   \n",
       "2   33        0        2        1     1    5   may      1.27         1      0   \n",
       "5   35        0      231        1     0    5   may      2.32         1      0   \n",
       "6   28        0      447        1     1    5   may      3.62         1      0   \n",
       "\n",
       "   previous  binaryresponse  job_blue-collar  job_entrepreneur  job_housemaid  \\\n",
       "0         0               0                0                 0              0   \n",
       "1         0               0                0                 0              0   \n",
       "2         0               0                0                 1              0   \n",
       "5         0               0                0                 0              0   \n",
       "6         0               0                0                 0              0   \n",
       "\n",
       "   job_management  job_other  job_retired  job_self-employed  job_services  \\\n",
       "0               1          0            0                  0             0   \n",
       "1               0          0            0                  0             0   \n",
       "2               0          0            0                  0             0   \n",
       "5               1          0            0                  0             0   \n",
       "6               1          0            0                  0             0   \n",
       "\n",
       "   job_student  job_technician  job_unemployed  marital_married  \\\n",
       "0            0               0               0                1   \n",
       "1            0               1               0                0   \n",
       "2            0               0               0                1   \n",
       "5            0               0               0                1   \n",
       "6            0               0               0                0   \n",
       "\n",
       "   marital_single  education_secondary  education_tertiary  age_group_26-35  \\\n",
       "0               0                    0                   1                0   \n",
       "1               1                    1                   0                0   \n",
       "2               0                    1                   0                1   \n",
       "5               0                    0                   1                1   \n",
       "6               1                    0                   1                1   \n",
       "\n",
       "   age_group_36-45  age_group_46-55  age_group_56-65  age_group_65+  \\\n",
       "0                0                0                1              0   \n",
       "1                1                0                0              0   \n",
       "2                0                0                0              0   \n",
       "5                0                0                0              0   \n",
       "6                0                0                0              0   \n",
       "\n",
       "   m_group_2_4  m_group_3  m_group_5_7  m_group_9_10_12  pre_contact_1  \\\n",
       "0            0          0            1                0              0   \n",
       "1            0          0            1                0              0   \n",
       "2            0          0            1                0              0   \n",
       "5            0          0            1                0              0   \n",
       "6            0          0            1                0              0   \n",
       "\n",
       "   pre_contact_2-5  pre_contact_6-10  pre_contact_11-15  \\\n",
       "0                0                 0                  0   \n",
       "1                0                 0                  0   \n",
       "2                0                 0                  0   \n",
       "5                0                 0                  0   \n",
       "6                0                 0                  0   \n",
       "\n",
       "   pre_contact_beyond 15  cam_contact_4-11  cam_contact_12-17  \\\n",
       "0                      0                 0                  0   \n",
       "1                      0                 0                  0   \n",
       "2                      0                 0                  0   \n",
       "5                      0                 0                  0   \n",
       "6                      0                 0                  0   \n",
       "\n",
       "   cam_contact_beyond 18  \n",
       "0                      0  \n",
       "1                      0  \n",
       "2                      0  \n",
       "5                      0  \n",
       "6                      0  "
      ]
     },
     "execution_count": 46,
     "metadata": {},
     "output_type": "execute_result"
    }
   ],
   "source": [
    "df2.head()"
   ]
  },
  {
   "cell_type": "code",
   "execution_count": 47,
   "metadata": {},
   "outputs": [
    {
     "data": {
      "text/plain": [
       "(40841, 44)"
      ]
     },
     "execution_count": 47,
     "metadata": {},
     "output_type": "execute_result"
    }
   ],
   "source": [
    "df2.shape"
   ]
  },
  {
   "cell_type": "markdown",
   "metadata": {},
   "source": [
    "### 4.6 Feature selections\n",
    "\n",
    "Now we are going to use 2 ways to select important features and to filter out some unimportant features. We use the following 2 methods to do feature selection"
   ]
  },
  {
   "cell_type": "markdown",
   "metadata": {},
   "source": [
    "#### 4.6.1 Embeded Method\n",
    "Using Lasso with regularization to introduce additional constraints to lower the complexity for fewer coefficients"
   ]
  },
  {
   "cell_type": "code",
   "execution_count": 48,
   "metadata": {},
   "outputs": [],
   "source": [
    "target = df2.binaryresponse\n",
    "features = df2.drop(['binaryresponse','age','month','previous','campaign'], axis=1)"
   ]
  },
  {
   "cell_type": "code",
   "execution_count": 49,
   "metadata": {},
   "outputs": [],
   "source": [
    "from sklearn.model_selection import train_test_split # to split the data into two parts\n",
    "X_train_fs, X_test_fs, y_train_fs, y_test_fs = train_test_split(features, target, random_state=22,test_size=0.2)"
   ]
  },
  {
   "cell_type": "code",
   "execution_count": 50,
   "metadata": {},
   "outputs": [],
   "source": [
    "from sklearn.preprocessing import StandardScaler\n",
    "scaler = StandardScaler()\n",
    "# fit the scaler to the training data\n",
    "scaler.fit(X_train_fs)\n",
    "#transform the training data\n",
    "X_train_fs = pd.DataFrame(data = scaler.transform(X_train_fs), columns = features.columns)\n",
    "#transform the testing dat\n",
    "X_test_fs = pd.DataFrame(data = scaler.transform(X_test_fs), columns = features.columns)"
   ]
  },
  {
   "cell_type": "code",
   "execution_count": 51,
   "metadata": {},
   "outputs": [],
   "source": [
    "## training the model\n",
    "from sklearn.linear_model import Lasso\n",
    "from sklearn import metrics \n",
    "from sklearn.metrics import accuracy_score, f1_score, recall_score\n",
    "lasso = Lasso(alpha = 0.01, normalize = False)\n",
    "lasso = lasso.fit(X_train_fs, y_train_fs)\n",
    "y_train_pred_fs = lasso.predict(X_train_fs)\n",
    "# y_test_pred_fs = lasso.predict(X_test_fs)"
   ]
  },
  {
   "cell_type": "code",
   "execution_count": 52,
   "metadata": {},
   "outputs": [
    {
     "data": {
      "text/plain": [
       "array([-0.        ,  0.00102523, -0.02449849, -0.00350372, -0.        ,\n",
       "        0.11635663,  0.        , -0.00095822, -0.        , -0.        ,\n",
       "        0.        , -0.        ,  0.        , -0.        , -0.        ,\n",
       "        0.00634425, -0.        ,  0.        , -0.00056394,  0.00422575,\n",
       "       -0.        ,  0.00278191,  0.        , -0.        , -0.        ,\n",
       "        0.        ,  0.01250502,  0.01233102,  0.02804885, -0.00289   ,\n",
       "        0.04073574,  0.01216356,  0.02237879,  0.01037083,  0.        ,\n",
       "       -0.        , -0.        , -0.        ,  0.        ])"
      ]
     },
     "execution_count": 52,
     "metadata": {},
     "output_type": "execute_result"
    }
   ],
   "source": [
    "lasso.coef_"
   ]
  },
  {
   "cell_type": "code",
   "execution_count": 53,
   "metadata": {},
   "outputs": [
    {
     "data": {
      "text/plain": [
       "<matplotlib.axes._subplots.AxesSubplot at 0x1a2717df28>"
      ]
     },
     "execution_count": 53,
     "metadata": {},
     "output_type": "execute_result"
    },
    {
     "data": {
      "image/png": "[encoded data removed]",
      "text/plain": [
       "<Figure size 1152x1296 with 1 Axes>"
      ]
     },
     "metadata": {},
     "output_type": "display_data"
    }
   ],
   "source": [
    "lasso_coef = pd.DataFrame(data=lasso.coef_).T\n",
    "lasso_coef.columns = X_train_fs.columns\n",
    "lasso_coef = lasso_coef.T.sort_values(by=0).T\n",
    "lasso_coef.plot(kind='bar', title='Modal Coefficients', legend=True, figsize=(16,18))"
   ]
  },
  {
   "cell_type": "code",
   "execution_count": 54,
   "metadata": {
    "scrolled": false
   },
   "outputs": [
    {
     "data": {
      "text/html": [
       "<div>\n",
       "<style scoped>\n",
       "    .dataframe tbody tr th:only-of-type {\n",
       "        vertical-align: middle;\n",
       "    }\n",
       "\n",
       "    .dataframe tbody tr th {\n",
       "        vertical-align: top;\n",
       "    }\n",
       "\n",
       "    .dataframe thead th {\n",
       "        text-align: right;\n",
       "    }\n",
       "</style>\n",
       "<table border=\"1\" class=\"dataframe\">\n",
       "  <thead>\n",
       "    <tr style=\"text-align: right;\">\n",
       "      <th></th>\n",
       "      <th>0</th>\n",
       "    </tr>\n",
       "  </thead>\n",
       "  <tbody>\n",
       "    <tr>\n",
       "      <td>housing</td>\n",
       "      <td>-0.024498</td>\n",
       "    </tr>\n",
       "    <tr>\n",
       "      <td>loan</td>\n",
       "      <td>-0.003504</td>\n",
       "    </tr>\n",
       "    <tr>\n",
       "      <td>m_group_5_7</td>\n",
       "      <td>-0.002890</td>\n",
       "    </tr>\n",
       "    <tr>\n",
       "      <td>job_blue-collar</td>\n",
       "      <td>-0.000958</td>\n",
       "    </tr>\n",
       "    <tr>\n",
       "      <td>marital_married</td>\n",
       "      <td>-0.000564</td>\n",
       "    </tr>\n",
       "    <tr>\n",
       "      <td>default</td>\n",
       "      <td>-0.000000</td>\n",
       "    </tr>\n",
       "    <tr>\n",
       "      <td>cam_contact_4-11</td>\n",
       "      <td>-0.000000</td>\n",
       "    </tr>\n",
       "    <tr>\n",
       "      <td>pre_contact_beyond 15</td>\n",
       "      <td>-0.000000</td>\n",
       "    </tr>\n",
       "    <tr>\n",
       "      <td>pre_contact_11-15</td>\n",
       "      <td>0.000000</td>\n",
       "    </tr>\n",
       "    <tr>\n",
       "      <td>age_group_56-65</td>\n",
       "      <td>0.000000</td>\n",
       "    </tr>\n",
       "    <tr>\n",
       "      <td>age_group_46-55</td>\n",
       "      <td>-0.000000</td>\n",
       "    </tr>\n",
       "    <tr>\n",
       "      <td>age_group_36-45</td>\n",
       "      <td>-0.000000</td>\n",
       "    </tr>\n",
       "    <tr>\n",
       "      <td>age_group_26-35</td>\n",
       "      <td>0.000000</td>\n",
       "    </tr>\n",
       "    <tr>\n",
       "      <td>education_secondary</td>\n",
       "      <td>-0.000000</td>\n",
       "    </tr>\n",
       "    <tr>\n",
       "      <td>cam_contact_12-17</td>\n",
       "      <td>-0.000000</td>\n",
       "    </tr>\n",
       "    <tr>\n",
       "      <td>job_unemployed</td>\n",
       "      <td>0.000000</td>\n",
       "    </tr>\n",
       "    <tr>\n",
       "      <td>cam_contact_beyond 18</td>\n",
       "      <td>0.000000</td>\n",
       "    </tr>\n",
       "    <tr>\n",
       "      <td>job_services</td>\n",
       "      <td>-0.000000</td>\n",
       "    </tr>\n",
       "    <tr>\n",
       "      <td>job_self-employed</td>\n",
       "      <td>-0.000000</td>\n",
       "    </tr>\n",
       "    <tr>\n",
       "      <td>job_retired</td>\n",
       "      <td>0.000000</td>\n",
       "    </tr>\n",
       "    <tr>\n",
       "      <td>job_other</td>\n",
       "      <td>-0.000000</td>\n",
       "    </tr>\n",
       "    <tr>\n",
       "      <td>job_management</td>\n",
       "      <td>0.000000</td>\n",
       "    </tr>\n",
       "    <tr>\n",
       "      <td>job_housemaid</td>\n",
       "      <td>-0.000000</td>\n",
       "    </tr>\n",
       "    <tr>\n",
       "      <td>job_entrepreneur</td>\n",
       "      <td>-0.000000</td>\n",
       "    </tr>\n",
       "    <tr>\n",
       "      <td>job_technician</td>\n",
       "      <td>-0.000000</td>\n",
       "    </tr>\n",
       "    <tr>\n",
       "      <td>day</td>\n",
       "      <td>-0.000000</td>\n",
       "    </tr>\n",
       "    <tr>\n",
       "      <td>pdays</td>\n",
       "      <td>0.000000</td>\n",
       "    </tr>\n",
       "    <tr>\n",
       "      <td>balance</td>\n",
       "      <td>0.001025</td>\n",
       "    </tr>\n",
       "    <tr>\n",
       "      <td>education_tertiary</td>\n",
       "      <td>0.002782</td>\n",
       "    </tr>\n",
       "    <tr>\n",
       "      <td>marital_single</td>\n",
       "      <td>0.004226</td>\n",
       "    </tr>\n",
       "    <tr>\n",
       "      <td>job_student</td>\n",
       "      <td>0.006344</td>\n",
       "    </tr>\n",
       "    <tr>\n",
       "      <td>pre_contact_6-10</td>\n",
       "      <td>0.010371</td>\n",
       "    </tr>\n",
       "    <tr>\n",
       "      <td>pre_contact_1</td>\n",
       "      <td>0.012164</td>\n",
       "    </tr>\n",
       "    <tr>\n",
       "      <td>m_group_2_4</td>\n",
       "      <td>0.012331</td>\n",
       "    </tr>\n",
       "    <tr>\n",
       "      <td>age_group_65+</td>\n",
       "      <td>0.012505</td>\n",
       "    </tr>\n",
       "    <tr>\n",
       "      <td>pre_contact_2-5</td>\n",
       "      <td>0.022379</td>\n",
       "    </tr>\n",
       "    <tr>\n",
       "      <td>m_group_3</td>\n",
       "      <td>0.028049</td>\n",
       "    </tr>\n",
       "    <tr>\n",
       "      <td>m_group_9_10_12</td>\n",
       "      <td>0.040736</td>\n",
       "    </tr>\n",
       "    <tr>\n",
       "      <td>duration</td>\n",
       "      <td>0.116357</td>\n",
       "    </tr>\n",
       "  </tbody>\n",
       "</table>\n",
       "</div>"
      ],
      "text/plain": [
       "                              0\n",
       "housing               -0.024498\n",
       "loan                  -0.003504\n",
       "m_group_5_7           -0.002890\n",
       "job_blue-collar       -0.000958\n",
       "marital_married       -0.000564\n",
       "default               -0.000000\n",
       "cam_contact_4-11      -0.000000\n",
       "pre_contact_beyond 15 -0.000000\n",
       "pre_contact_11-15      0.000000\n",
       "age_group_56-65        0.000000\n",
       "age_group_46-55       -0.000000\n",
       "age_group_36-45       -0.000000\n",
       "age_group_26-35        0.000000\n",
       "education_secondary   -0.000000\n",
       "cam_contact_12-17     -0.000000\n",
       "job_unemployed         0.000000\n",
       "cam_contact_beyond 18  0.000000\n",
       "job_services          -0.000000\n",
       "job_self-employed     -0.000000\n",
       "job_retired            0.000000\n",
       "job_other             -0.000000\n",
       "job_management         0.000000\n",
       "job_housemaid         -0.000000\n",
       "job_entrepreneur      -0.000000\n",
       "job_technician        -0.000000\n",
       "day                   -0.000000\n",
       "pdays                  0.000000\n",
       "balance                0.001025\n",
       "education_tertiary     0.002782\n",
       "marital_single         0.004226\n",
       "job_student            0.006344\n",
       "pre_contact_6-10       0.010371\n",
       "pre_contact_1          0.012164\n",
       "m_group_2_4            0.012331\n",
       "age_group_65+          0.012505\n",
       "pre_contact_2-5        0.022379\n",
       "m_group_3              0.028049\n",
       "m_group_9_10_12        0.040736\n",
       "duration               0.116357"
      ]
     },
     "execution_count": 54,
     "metadata": {},
     "output_type": "execute_result"
    }
   ],
   "source": [
    "lasso_coef.T"
   ]
  },
  {
   "cell_type": "markdown",
   "metadata": {},
   "source": [
    "#### 4.6.2 Use logistic regression with L1 penalty to lower the complexity for fewer coefficients"
   ]
  },
  {
   "cell_type": "markdown",
   "metadata": {},
   "source": [
    "As we can see the above lasso coefficient, their are more than half of coefficients are 0, some of the features are still important, it may not be a good to filter out these features. Let us use another way to do feature selection and filtering. "
   ]
  },
  {
   "cell_type": "code",
   "execution_count": 55,
   "metadata": {},
   "outputs": [],
   "source": [
    "target_lo = df2.binaryresponse\n",
    "features_lo = df2.drop(['binaryresponse','age','month','previous','campaign'], axis=1)"
   ]
  },
  {
   "cell_type": "code",
   "execution_count": 56,
   "metadata": {},
   "outputs": [],
   "source": [
    "from sklearn.model_selection import train_test_split # to split the data into two parts\n",
    "X_train_lo, X_test_lo, y_train_lo, y_test_lo = train_test_split(features_lo, target_lo, random_state=20,test_size=0.2)"
   ]
  },
  {
   "cell_type": "code",
   "execution_count": 57,
   "metadata": {},
   "outputs": [],
   "source": [
    "from sklearn.preprocessing import StandardScaler\n",
    "scaler = StandardScaler()\n",
    "# fit the scaler to the training data\n",
    "scaler.fit(X_train_lo)\n",
    "#transform the training data\n",
    "X_train_lo = pd.DataFrame(data = scaler.transform(X_train_lo), columns = features_lo.columns)\n",
    "#transform the testing dat\n",
    "X_test_lo = pd.DataFrame(data = scaler.transform(X_test_lo), columns = features_lo.columns)"
   ]
  },
  {
   "cell_type": "code",
   "execution_count": 114,
   "metadata": {},
   "outputs": [],
   "source": [
    "# training the model, only solver='liblinear' support both L1, L2 regularization, 'newton-cg', 'sag', 'lbfgs' \n",
    "# solver support only L2 regularization\n",
    "from sklearn.linear_model import LogisticRegression\n",
    "lo = LogisticRegression(penalty='l1', C=0.01, random_state=1, class_weight='balanced', solver='liblinear')\n",
    "lo = lo.fit(X_train_lo, y_train_lo)\n",
    "y_train_pred_lo = lo.predict(X_train_lo)"
   ]
  },
  {
   "cell_type": "code",
   "execution_count": 115,
   "metadata": {
    "scrolled": true
   },
   "outputs": [
    {
     "data": {
      "text/plain": [
       "array([[ 0.        ,  0.09005071, -0.44974692, -0.17727922, -0.07374684,\n",
       "         1.42725846, -0.04538699, -0.05793005, -0.02792167, -0.03294223,\n",
       "         0.        , -0.04625806,  0.        , -0.00462781, -0.00770641,\n",
       "         0.09849552,  0.        ,  0.        , -0.09947018,  0.01283639,\n",
       "         0.08198072,  0.19627432, -0.02796414, -0.12042592, -0.10892842,\n",
       "         0.        ,  0.11742198,  0.2337571 ,  0.26054101, -0.13522277,\n",
       "         0.32289123,  0.2497011 ,  0.38245313,  0.19894189,  0.05503913,\n",
       "         0.        , -0.12592874, -0.0476388 , -0.04586597]])"
      ]
     },
     "execution_count": 115,
     "metadata": {},
     "output_type": "execute_result"
    }
   ],
   "source": [
    "lo.coef_"
   ]
  },
  {
   "cell_type": "markdown",
   "metadata": {},
   "source": [
    "As shown here, when using logistic regression L1 penalty, there are 7 features not contributing, so we can drop these 7 features, this can be a better option than lasso regularization method"
   ]
  },
  {
   "cell_type": "code",
   "execution_count": 116,
   "metadata": {
    "scrolled": true
   },
   "outputs": [
    {
     "data": {
      "text/plain": [
       "Index(['default', 'job_management', 'job_retired', 'job_technician',\n",
       "       'job_unemployed', 'age_group_56-65', 'pre_contact_beyond 15'],\n",
       "      dtype='object')"
      ]
     },
     "execution_count": 116,
     "metadata": {},
     "output_type": "execute_result"
    }
   ],
   "source": [
    "features_lo.columns[lo.coef_[0]==0]"
   ]
  },
  {
   "cell_type": "markdown",
   "metadata": {},
   "source": [
    "### 4.7 Feature selections summary and analysis"
   ]
  },
  {
   "cell_type": "markdown",
   "metadata": {},
   "source": [
    "#### Why we are dopping these features? Let's look into it and analyze some features here!"
   ]
  },
  {
   "cell_type": "markdown",
   "metadata": {},
   "source": [
    "4.7.1 We can clearly see that all the features on dropping list of logistic method are also on dropping list of lasso method. Lasso method dropping list are more than logistic method."
   ]
  },
  {
   "cell_type": "markdown",
   "metadata": {},
   "source": [
    "4.7.2 As we can see from above, 'Pdays' is a feature on the edge of dropping in lasso regulation, but it is kept in logistic regression with L1 penalty. The coefficient of 'Pdays' is negative. It makes sense to keep this feature, because it represents number of days that passed by after the client was last contacted from the previous promotion. This feature shall contribute because if a person is previously contacted, this person is more likely to be familar with the bank promotion benefits or more likely to have existing relationship with bank tellers. The larger this value is, the less the person has impression about the bank promotion. "
   ]
  },
  {
   "cell_type": "markdown",
   "metadata": {},
   "source": [
    "4.7.3 Another difference of these 2 features selection is 'age_group', as we can see the lasso regulation dropping list has mojority of 'age_group' dummies, but logistic L1 method keeps some of the 'age_group' dummies. From the __'age' feature engineering above__ we can see that different age groups do have siginificant behaviors in response to telemarketing. So it make sense to keep some of the dummy variables in 'age_group' dummies. "
   ]
  },
  {
   "cell_type": "markdown",
   "metadata": {},
   "source": [
    "4.7.4 We carefully looked into other featues in the 2 dropping lists, don't need to explain every one here. For the above reasons, we choose the second feature dropping list. "
   ]
  },
  {
   "cell_type": "markdown",
   "metadata": {},
   "source": [
    "## 5. Various model fitting"
   ]
  },
  {
   "cell_type": "code",
   "execution_count": 66,
   "metadata": {},
   "outputs": [
    {
     "name": "stderr",
     "output_type": "stream",
     "text": [
      "/opt/anaconda3/envs/learn-env/lib/python3.6/site-packages/sklearn/externals/six.py:31: FutureWarning: The module is deprecated in version 0.21 and will be removed in version 0.23 since we've dropped support for Python 2.7. Please rely on the official version of six (https://pypi.org/project/six/).\n",
      "  \"(https://pypi.org/project/six/).\", FutureWarning)\n",
      "/opt/anaconda3/envs/learn-env/lib/python3.6/site-packages/sklearn/utils/deprecation.py:144: FutureWarning: The sklearn.neighbors.base module is  deprecated in version 0.22 and will be removed in version 0.24. The corresponding classes / functions should instead be imported from sklearn.neighbors. Anything that cannot be imported from sklearn.neighbors is now part of the private API.\n",
      "  warnings.warn(message, FutureWarning)\n"
     ]
    }
   ],
   "source": [
    "# import all necessary model fitting tools\n",
    "from statsmodels.stats.multicomp import pairwise_tukeyhsd, MultiComparison\n",
    "import itertools\n",
    "from sklearn.metrics import accuracy_score, f1_score, recall_score, precision_score, make_scorer, confusion_matrix\n",
    "from imblearn.over_sampling import SMOTE\n",
    "from collections import Counter\n",
    "from imblearn.under_sampling import TomekLinks\n",
    "from sklearn.neighbors import KNeighborsClassifier\n",
    "from sklearn import metrics\n",
    "from sklearn.tree import DecisionTreeClassifier, export_graphviz\n",
    "from sklearn.externals.six import StringIO  \n",
    "from IPython.display import Image  \n",
    "import pydotplus\n",
    "from sklearn.model_selection import GridSearchCV, RandomizedSearchCV, cross_val_score, KFold\n",
    "plt.style.use('ggplot') # nice plots\n",
    "from sklearn.feature_selection import RFE, SelectFromModel\n",
    "from sklearn.pipeline import Pipeline \n",
    "from sklearn.ensemble import RandomForestClassifier\n",
    "from sklearn.metrics import classification_report\n",
    "from sklearn.neighbors import KNeighborsClassifier #KNN\n",
    "from sklearn.ensemble import ExtraTreesClassifier\n",
    "import warnings\n",
    "from sklearn.utils import resample\n",
    "%matplotlib inline "
   ]
  },
  {
   "cell_type": "code",
   "execution_count": 67,
   "metadata": {},
   "outputs": [],
   "source": [
    "# set up features for the new selected features from the above feature selection\n",
    "target = df2.binaryresponse\n",
    "features = df2.drop(['binaryresponse','age','month','previous','campaign','default','job_management','job_retired',\n",
    "                     'job_technician','job_unemployed','age_group_56-65','pre_contact_beyond 15'], axis=1)"
   ]
  },
  {
   "cell_type": "markdown",
   "metadata": {},
   "source": [
    "### 5.1 Try KNN model with different k values"
   ]
  },
  {
   "cell_type": "code",
   "execution_count": 68,
   "metadata": {},
   "outputs": [],
   "source": [
    "X_train, X_test, y_train, y_test = train_test_split(features, target, random_state=20, test_size=0.2)\n",
    "scaler = StandardScaler()\n",
    "scaler.fit(X_train)\n",
    "X_train = scaler.transform(X_train)\n",
    "X_test = scaler.transform(X_test)"
   ]
  },
  {
   "cell_type": "code",
   "execution_count": 69,
   "metadata": {},
   "outputs": [],
   "source": [
    "knn = KNeighborsClassifier(n_neighbors=8)"
   ]
  },
  {
   "cell_type": "code",
   "execution_count": 70,
   "metadata": {},
   "outputs": [
    {
     "name": "stdout",
     "output_type": "stream",
     "text": [
      "knn score:   accuracy:  0.89386705839148  f1:  0.2744769874476988  recall:  0.1771058315334773  precision:  0.6096654275092936\n"
     ]
    }
   ],
   "source": [
    "knn.fit(X_train, y_train)\n",
    "knn_pred = knn.predict(X_test)\n",
    "knn_accuracy = accuracy_score(y_test, knn_pred)\n",
    "knn_f1 = f1_score(y_test, knn_pred)\n",
    "knn_recall = recall_score(y_test, knn_pred)\n",
    "knn_precision = precision_score(y_test, knn_pred)\n",
    "print('knn score: ', ' accuracy: ', knn_accuracy, ' f1: ', knn_f1, ' recall: ', knn_recall, ' precision: ', knn_precision)"
   ]
  },
  {
   "cell_type": "code",
   "execution_count": 71,
   "metadata": {},
   "outputs": [],
   "source": [
    "knn = KNeighborsClassifier(n_neighbors=7)"
   ]
  },
  {
   "cell_type": "code",
   "execution_count": 72,
   "metadata": {},
   "outputs": [
    {
     "name": "stdout",
     "output_type": "stream",
     "text": [
      "knn score:   accuracy:  0.8974170645121802  f1:  0.3792592592592593  recall:  0.27645788336933047  precision:  0.6037735849056604\n"
     ]
    }
   ],
   "source": [
    "knn.fit(X_train, y_train)\n",
    "knn_pred = knn.predict(X_test)\n",
    "knn_accuracy = accuracy_score(y_test, knn_pred)\n",
    "knn_f1 = f1_score(y_test, knn_pred)\n",
    "knn_recall = recall_score(y_test, knn_pred)\n",
    "knn_precision = precision_score(y_test, knn_pred)\n",
    "print('knn score: ', ' accuracy: ', knn_accuracy, ' f1: ', knn_f1, ' recall: ', knn_recall, ' precision: ', knn_precision)"
   ]
  },
  {
   "cell_type": "markdown",
   "metadata": {},
   "source": [
    "### 5.2 Logistic Regression with different parameters"
   ]
  },
  {
   "cell_type": "code",
   "execution_count": 73,
   "metadata": {
    "scrolled": false
   },
   "outputs": [
    {
     "data": {
      "text/html": [
       "<div>\n",
       "<style scoped>\n",
       "    .dataframe tbody tr th:only-of-type {\n",
       "        vertical-align: middle;\n",
       "    }\n",
       "\n",
       "    .dataframe tbody tr th {\n",
       "        vertical-align: top;\n",
       "    }\n",
       "\n",
       "    .dataframe thead th {\n",
       "        text-align: right;\n",
       "    }\n",
       "</style>\n",
       "<table border=\"1\" class=\"dataframe\">\n",
       "  <thead>\n",
       "    <tr style=\"text-align: right;\">\n",
       "      <th></th>\n",
       "      <th>C_parameter</th>\n",
       "      <th>Accuracy</th>\n",
       "      <th>F1</th>\n",
       "      <th>Recall</th>\n",
       "      <th>Precision</th>\n",
       "    </tr>\n",
       "  </thead>\n",
       "  <tbody>\n",
       "    <tr>\n",
       "      <td>0</td>\n",
       "      <td>0.001</td>\n",
       "      <td>0.824703</td>\n",
       "      <td>0.52075</td>\n",
       "      <td>0.840173</td>\n",
       "      <td>0.377304</td>\n",
       "    </tr>\n",
       "    <tr>\n",
       "      <td>1</td>\n",
       "      <td>0.010</td>\n",
       "      <td>0.834864</td>\n",
       "      <td>0.530783</td>\n",
       "      <td>0.823974</td>\n",
       "      <td>0.391483</td>\n",
       "    </tr>\n",
       "    <tr>\n",
       "      <td>2</td>\n",
       "      <td>0.100</td>\n",
       "      <td>0.835108</td>\n",
       "      <td>0.531152</td>\n",
       "      <td>0.823974</td>\n",
       "      <td>0.391885</td>\n",
       "    </tr>\n",
       "    <tr>\n",
       "      <td>3</td>\n",
       "      <td>1.000</td>\n",
       "      <td>0.834864</td>\n",
       "      <td>0.530456</td>\n",
       "      <td>0.822894</td>\n",
       "      <td>0.391371</td>\n",
       "    </tr>\n",
       "  </tbody>\n",
       "</table>\n",
       "</div>"
      ],
      "text/plain": [
       "   C_parameter  Accuracy        F1    Recall Precision\n",
       "0        0.001  0.824703   0.52075  0.840173  0.377304\n",
       "1        0.010  0.834864  0.530783  0.823974  0.391483\n",
       "2        0.100  0.835108  0.531152  0.823974  0.391885\n",
       "3        1.000  0.834864  0.530456  0.822894  0.391371"
      ]
     },
     "execution_count": 73,
     "metadata": {},
     "output_type": "execute_result"
    }
   ],
   "source": [
    "C_param_range = [0.001,0.01,0.1,1]\n",
    "lr_titles = ['lr_0_001', 'lr_0_01', 'lr_0_1', 'lr_1']\n",
    "lr_params = dict(zip(lr_titles, C_param_range)) \n",
    "lr_models = {}\n",
    "scores_table = pd.DataFrame(columns = ['C_parameter','Accuracy','F1','Recall','Precision'])\n",
    "scores_table['C_parameter'] = C_param_range\n",
    "j = 0\n",
    "for k , v  in lr_params.items():\n",
    "    # Create model using different value for c  \n",
    "    lr = LogisticRegression(penalty = 'l2', C = v, random_state = 1, class_weight='balanced', solver='liblinear')\n",
    "    #save the model to a dictionary to use later in our voting classifiers\n",
    "    lr_models[k]= lr\n",
    "    lr.fit(X_train, y_train)\n",
    "    # Predict using model\n",
    "    lr_pred = lr.predict(X_test)\n",
    "    # Save all scores in table\n",
    "    scores_table.iloc[j,1] = accuracy_score(y_test, lr_pred)\n",
    "    scores_table.iloc[j,2] = f1_score(y_test, lr_pred)\n",
    "    scores_table.iloc[j,3] = recall_score(y_test, lr_pred)\n",
    "    scores_table.iloc[j,4] = precision_score(y_test, lr_pred)\n",
    "    j += 1\n",
    "scores_table"
   ]
  },
  {
   "cell_type": "code",
   "execution_count": 74,
   "metadata": {
    "scrolled": true
   },
   "outputs": [
    {
     "data": {
      "text/plain": [
       "array([[6058, 1185],\n",
       "       [ 164,  762]])"
      ]
     },
     "execution_count": 74,
     "metadata": {},
     "output_type": "execute_result"
    }
   ],
   "source": [
    "confusion_matrix(y_test, lr_pred)"
   ]
  },
  {
   "cell_type": "code",
   "execution_count": 75,
   "metadata": {},
   "outputs": [
    {
     "data": {
      "text/plain": [
       "(40841, 32)"
      ]
     },
     "execution_count": 75,
     "metadata": {},
     "output_type": "execute_result"
    }
   ],
   "source": [
    "features.shape"
   ]
  },
  {
   "cell_type": "markdown",
   "metadata": {},
   "source": [
    "### 5.3 Random Forest with different parameters and GridSearch for precision "
   ]
  },
  {
   "cell_type": "code",
   "execution_count": 76,
   "metadata": {},
   "outputs": [],
   "source": [
    "rf_params = {'n_estimators': [380, 400, 430, 450],\n",
    "              'class_weight': [None, 'balanced'],\n",
    "              'max_depth': [5, 6, 8],\n",
    "              'max_features': [0.10, 0.15, 'auto']}"
   ]
  },
  {
   "cell_type": "code",
   "execution_count": 77,
   "metadata": {},
   "outputs": [],
   "source": [
    "#create a grid search object and fit it to the data\n",
    "\n",
    "rf = RandomForestClassifier(random_state = 1)"
   ]
  },
  {
   "cell_type": "code",
   "execution_count": 78,
   "metadata": {
    "scrolled": false
   },
   "outputs": [
    {
     "name": "stdout",
     "output_type": "stream",
     "text": [
      "Fitting 7 folds for each of 72 candidates, totalling 504 fits\n"
     ]
    },
    {
     "name": "stderr",
     "output_type": "stream",
     "text": [
      "[Parallel(n_jobs=-1)]: Using backend LokyBackend with 4 concurrent workers.\n",
      "[Parallel(n_jobs=-1)]: Done  42 tasks      | elapsed:  1.8min\n",
      "[Parallel(n_jobs=-1)]: Done 192 tasks      | elapsed:  9.0min\n",
      "[Parallel(n_jobs=-1)]: Done 442 tasks      | elapsed: 22.6min\n",
      "[Parallel(n_jobs=-1)]: Done 504 out of 504 | elapsed: 26.1min finished\n"
     ]
    },
    {
     "data": {
      "text/plain": [
       "GridSearchCV(cv=7, error_score=nan,\n",
       "             estimator=RandomForestClassifier(bootstrap=True, ccp_alpha=0.0,\n",
       "                                              class_weight=None,\n",
       "                                              criterion='gini', max_depth=None,\n",
       "                                              max_features='auto',\n",
       "                                              max_leaf_nodes=None,\n",
       "                                              max_samples=None,\n",
       "                                              min_impurity_decrease=0.0,\n",
       "                                              min_impurity_split=None,\n",
       "                                              min_samples_leaf=1,\n",
       "                                              min_samples_split=2,\n",
       "                                              min_weight_fraction_leaf=0.0,\n",
       "                                              n_estimators=100, n_jobs=None,\n",
       "                                              oob_score=False, random_state=1,\n",
       "                                              verbose=0, warm_start=False),\n",
       "             iid='deprecated', n_jobs=-1,\n",
       "             param_grid={'class_weight': [None, 'balanced'],\n",
       "                         'max_depth': [5, 6, 8],\n",
       "                         'max_features': [0.1, 0.15, 'auto'],\n",
       "                         'n_estimators': [380, 400, 430, 450]},\n",
       "             pre_dispatch='2*n_jobs', refit=True, return_train_score=False,\n",
       "             scoring='precision', verbose=1)"
      ]
     },
     "execution_count": 78,
     "metadata": {},
     "output_type": "execute_result"
    }
   ],
   "source": [
    "grid_rf = GridSearchCV(rf, param_grid=rf_params, cv=7, scoring='precision', verbose =1, n_jobs=-1)\n",
    "grid_rf.fit(X_train, y_train)"
   ]
  },
  {
   "cell_type": "code",
   "execution_count": 79,
   "metadata": {},
   "outputs": [
    {
     "name": "stdout",
     "output_type": "stream",
     "text": [
      "0.7634016776873922\n",
      "{'class_weight': None, 'max_depth': 6, 'max_features': 0.15, 'n_estimators': 450}\n",
      "RandomForestClassifier(bootstrap=True, ccp_alpha=0.0, class_weight=None,\n",
      "                       criterion='gini', max_depth=6, max_features=0.15,\n",
      "                       max_leaf_nodes=None, max_samples=None,\n",
      "                       min_impurity_decrease=0.0, min_impurity_split=None,\n",
      "                       min_samples_leaf=1, min_samples_split=2,\n",
      "                       min_weight_fraction_leaf=0.0, n_estimators=450,\n",
      "                       n_jobs=None, oob_score=False, random_state=1, verbose=0,\n",
      "                       warm_start=False)\n"
     ]
    }
   ],
   "source": [
    "# examine the best model\n",
    "# Single best score achieved across all params (min_samples_split)\n",
    "print(grid_rf.best_score_)\n",
    "# Dictionary containing the parameters (min_samples_split) used to generate that score\n",
    "print(grid_rf.best_params_)\n",
    "# Actual model object fit with those best parameters\n",
    "# Shows default parameters that we did not specify\n",
    "print(grid_rf.best_estimator_)\n",
    "#Identify the best score during fitting with cross-validation"
   ]
  },
  {
   "cell_type": "code",
   "execution_count": 80,
   "metadata": {},
   "outputs": [
    {
     "name": "stdout",
     "output_type": "stream",
     "text": [
      "rf score: accuracy: 0.8873791161708899 f1: 0.017094017094017092 recall: 0.008639308855291577 precision: 0.8\n"
     ]
    }
   ],
   "source": [
    "rf_pred = grid_rf.best_estimator_.predict(X_test)\n",
    "rf_accuracy = accuracy_score(y_test, rf_pred)\n",
    "rf_f1 = f1_score(y_test, rf_pred)\n",
    "rf_recall = recall_score(y_test, rf_pred)\n",
    "rf_precision = precision_score(y_test, rf_pred)\n",
    "print('rf score:','accuracy:',rf_accuracy,'f1:',rf_f1,'recall:',rf_recall,'precision:',rf_precision)"
   ]
  },
  {
   "cell_type": "code",
   "execution_count": 81,
   "metadata": {
    "scrolled": false
   },
   "outputs": [
    {
     "data": {
      "text/plain": [
       "array([[7241,    2],\n",
       "       [ 918,    8]])"
      ]
     },
     "execution_count": 81,
     "metadata": {},
     "output_type": "execute_result"
    }
   ],
   "source": [
    "confusion_matrix(y_test, rf_pred)"
   ]
  },
  {
   "cell_type": "code",
   "execution_count": 82,
   "metadata": {},
   "outputs": [],
   "source": [
    "classes = ['No', 'Yes']"
   ]
  },
  {
   "cell_type": "code",
   "execution_count": 83,
   "metadata": {},
   "outputs": [],
   "source": [
    "def plot_confusion_matrix(cm, classes,\n",
    "                          normalize=False,\n",
    "                          title='Confusion matrix',\n",
    "                          cmap=plt.cm.Blues):\n",
    "    \"\"\"\n",
    "    This function prints and plots the confusion matrix.\n",
    "    Normalization can be applied by setting `normalize=True`.\n",
    "    \"\"\"\n",
    "    if normalize:\n",
    "        cm = cm.astype('float') / cm.sum(axis=1)[:, np.newaxis]\n",
    "        print(\"Normalized confusion matrix\")\n",
    "    else:\n",
    "        print('Confusion Matrix, without normalization')\n",
    "    print(cm)\n",
    "    plt.imshow(cm, interpolation='nearest', cmap=cmap)\n",
    "    plt.title(title)\n",
    "    plt.colorbar()\n",
    "    tick_marks = np.arange(len(classes))\n",
    "    plt.xticks(tick_marks, classes, rotation=45)\n",
    "    plt.yticks(tick_marks, classes)\n",
    "    fmt = '.2f' if normalize else 'd'\n",
    "    thresh = cm.max() / 2.\n",
    "    for i, j in itertools.product(range(cm.shape[0]), range(cm.shape[1])):\n",
    "        plt.text(j, i, format(cm[i, j], fmt),\n",
    "                 horizontalalignment=\"center\",\n",
    "                 color=\"white\" if cm[i, j] > thresh else \"black\")\n",
    "    plt.tight_layout()\n",
    "    plt.ylabel('True label')\n",
    "    plt.xlabel('Predicted label')\n",
    "    plt.ylim([1.5, -.5])"
   ]
  },
  {
   "cell_type": "markdown",
   "metadata": {},
   "source": [
    "The following is the confusion matrix of this model"
   ]
  },
  {
   "cell_type": "code",
   "execution_count": 84,
   "metadata": {},
   "outputs": [
    {
     "name": "stdout",
     "output_type": "stream",
     "text": [
      "Confusion Matrix, without normalization\n",
      "[[7241    2]\n",
      " [ 918    8]]\n"
     ]
    },
    {
     "data": {
      "image/png": "[encoded data removed]",
      "text/plain": [
       "<Figure size 432x288 with 2 Axes>"
      ]
     },
     "metadata": {
      "needs_background": "light"
     },
     "output_type": "display_data"
    }
   ],
   "source": [
    "plot_confusion_matrix(metrics.confusion_matrix(y_test, rf_pred), classes, normalize=False, \n",
    "                      title='Term Deposit Confusion Matrix', cmap=plt.cm.Blues)"
   ]
  },
  {
   "cell_type": "markdown",
   "metadata": {},
   "source": [
    "The following is the importances of various features in this model"
   ]
  },
  {
   "cell_type": "code",
   "execution_count": 85,
   "metadata": {
    "scrolled": true
   },
   "outputs": [
    {
     "data": {
      "text/plain": [
       "<matplotlib.axes._subplots.AxesSubplot at 0x1a26fd49e8>"
      ]
     },
     "execution_count": 85,
     "metadata": {},
     "output_type": "execute_result"
    },
    {
     "data": {
      "image/png": "[encoded data removed]",
      "text/plain": [
       "<Figure size 432x288 with 1 Axes>"
      ]
     },
     "metadata": {
      "needs_background": "light"
     },
     "output_type": "display_data"
    }
   ],
   "source": [
    "feat_importances = pd.Series(grid_rf.best_estimator_.feature_importances_, index=features.columns)\n",
    "feat_importances.nlargest(15).plot(kind='barh')"
   ]
  },
  {
   "cell_type": "code",
   "execution_count": 86,
   "metadata": {},
   "outputs": [],
   "source": [
    "import pickle\n",
    "filename1 = 'precision.sav'\n",
    "pickle.dump(grid_rf.best_estimator_, open(filename1, 'wb'))"
   ]
  },
  {
   "cell_type": "markdown",
   "metadata": {},
   "source": [
    "### 5.4 Random Forest with different parameters and GridSearch for F1"
   ]
  },
  {
   "cell_type": "code",
   "execution_count": 87,
   "metadata": {},
   "outputs": [],
   "source": [
    "rf_params1 = {'n_estimators': [70, 80, 90],\n",
    "              'class_weight': ['balanced', None],\n",
    "              'max_depth': [12, 14, 15],\n",
    "              'max_features': [0.3, 0.4, 0.5]}"
   ]
  },
  {
   "cell_type": "code",
   "execution_count": 88,
   "metadata": {},
   "outputs": [],
   "source": [
    "rf = RandomForestClassifier(random_state = 1)"
   ]
  },
  {
   "cell_type": "code",
   "execution_count": 89,
   "metadata": {
    "scrolled": false
   },
   "outputs": [
    {
     "name": "stdout",
     "output_type": "stream",
     "text": [
      "Fitting 7 folds for each of 54 candidates, totalling 378 fits\n"
     ]
    },
    {
     "name": "stderr",
     "output_type": "stream",
     "text": [
      "[Parallel(n_jobs=-1)]: Using backend LokyBackend with 4 concurrent workers.\n",
      "[Parallel(n_jobs=-1)]: Done  42 tasks      | elapsed:   59.8s\n",
      "[Parallel(n_jobs=-1)]: Done 192 tasks      | elapsed:  5.0min\n",
      "[Parallel(n_jobs=-1)]: Done 378 out of 378 | elapsed: 10.7min finished\n"
     ]
    },
    {
     "data": {
      "text/plain": [
       "GridSearchCV(cv=7, error_score=nan,\n",
       "             estimator=RandomForestClassifier(bootstrap=True, ccp_alpha=0.0,\n",
       "                                              class_weight=None,\n",
       "                                              criterion='gini', max_depth=None,\n",
       "                                              max_features='auto',\n",
       "                                              max_leaf_nodes=None,\n",
       "                                              max_samples=None,\n",
       "                                              min_impurity_decrease=0.0,\n",
       "                                              min_impurity_split=None,\n",
       "                                              min_samples_leaf=1,\n",
       "                                              min_samples_split=2,\n",
       "                                              min_weight_fraction_leaf=0.0,\n",
       "                                              n_estimators=100, n_jobs=None,\n",
       "                                              oob_score=False, random_state=1,\n",
       "                                              verbose=0, warm_start=False),\n",
       "             iid='deprecated', n_jobs=-1,\n",
       "             param_grid={'class_weight': ['balanced', None],\n",
       "                         'max_depth': [12, 14, 15],\n",
       "                         'max_features': [0.3, 0.4, 0.5],\n",
       "                         'n_estimators': [70, 80, 90]},\n",
       "             pre_dispatch='2*n_jobs', refit=True, return_train_score=False,\n",
       "             scoring='f1', verbose=1)"
      ]
     },
     "execution_count": 89,
     "metadata": {},
     "output_type": "execute_result"
    }
   ],
   "source": [
    "grid_rf1 = GridSearchCV(rf, param_grid=rf_params1, cv=7, scoring='f1',  verbose =1, n_jobs=-1)\n",
    "grid_rf1.fit(X_train, y_train)"
   ]
  },
  {
   "cell_type": "code",
   "execution_count": 90,
   "metadata": {},
   "outputs": [
    {
     "name": "stdout",
     "output_type": "stream",
     "text": [
      "0.5755064452049388\n",
      "{'class_weight': 'balanced', 'max_depth': 14, 'max_features': 0.4, 'n_estimators': 80}\n",
      "RandomForestClassifier(bootstrap=True, ccp_alpha=0.0, class_weight='balanced',\n",
      "                       criterion='gini', max_depth=14, max_features=0.4,\n",
      "                       max_leaf_nodes=None, max_samples=None,\n",
      "                       min_impurity_decrease=0.0, min_impurity_split=None,\n",
      "                       min_samples_leaf=1, min_samples_split=2,\n",
      "                       min_weight_fraction_leaf=0.0, n_estimators=80,\n",
      "                       n_jobs=None, oob_score=False, random_state=1, verbose=0,\n",
      "                       warm_start=False)\n"
     ]
    }
   ],
   "source": [
    "print(grid_rf1.best_score_)\n",
    "print(grid_rf1.best_params_)\n",
    "print(grid_rf1.best_estimator_)"
   ]
  },
  {
   "cell_type": "code",
   "execution_count": 91,
   "metadata": {},
   "outputs": [
    {
     "name": "stdout",
     "output_type": "stream",
     "text": [
      "rf score: accuracy: 0.8866446321459175 f1: 0.5891748003549245 recall: 0.7170626349892009 precision: 0.5\n"
     ]
    }
   ],
   "source": [
    "rf_pred1 = grid_rf1.best_estimator_.predict(X_test)\n",
    "rf_accuracy1 = accuracy_score(y_test, rf_pred1)\n",
    "rf_f11 = f1_score(y_test, rf_pred1)\n",
    "rf_recall1 = recall_score(y_test, rf_pred1)\n",
    "rf_precision1 = precision_score(y_test, rf_pred1)\n",
    "print('rf score:','accuracy:',rf_accuracy1,'f1:',rf_f11,'recall:',rf_recall1,'precision:',rf_precision1)"
   ]
  },
  {
   "cell_type": "code",
   "execution_count": 92,
   "metadata": {},
   "outputs": [
    {
     "data": {
      "text/plain": [
       "array([[6579,  664],\n",
       "       [ 262,  664]])"
      ]
     },
     "execution_count": 92,
     "metadata": {},
     "output_type": "execute_result"
    }
   ],
   "source": [
    "confusion_matrix(y_test, rf_pred1)"
   ]
  },
  {
   "cell_type": "markdown",
   "metadata": {},
   "source": [
    "### 5.5 GridSearch with RandomForest different parameters for Sensitivity (Recall)"
   ]
  },
  {
   "cell_type": "code",
   "execution_count": 93,
   "metadata": {},
   "outputs": [],
   "source": [
    "rf_params2 = {'n_estimators': [400, 500, 600],\n",
    "              'class_weight': ['balanced', None],\n",
    "              'max_depth': [5, 6, 7],\n",
    "              'max_features': [0.1, 0.12, 'auto', 0.2]}"
   ]
  },
  {
   "cell_type": "code",
   "execution_count": 94,
   "metadata": {},
   "outputs": [],
   "source": [
    "rf = RandomForestClassifier(random_state = 1)"
   ]
  },
  {
   "cell_type": "code",
   "execution_count": 95,
   "metadata": {},
   "outputs": [
    {
     "name": "stdout",
     "output_type": "stream",
     "text": [
      "Fitting 7 folds for each of 72 candidates, totalling 504 fits\n"
     ]
    },
    {
     "name": "stderr",
     "output_type": "stream",
     "text": [
      "[Parallel(n_jobs=-1)]: Using backend LokyBackend with 4 concurrent workers.\n",
      "[Parallel(n_jobs=-1)]: Done  42 tasks      | elapsed:  2.0min\n",
      "[Parallel(n_jobs=-1)]: Done 192 tasks      | elapsed: 10.9min\n",
      "[Parallel(n_jobs=-1)]: Done 442 tasks      | elapsed: 31.3min\n",
      "[Parallel(n_jobs=-1)]: Done 504 out of 504 | elapsed: 35.5min finished\n"
     ]
    },
    {
     "data": {
      "text/plain": [
       "GridSearchCV(cv=7, error_score=nan,\n",
       "             estimator=RandomForestClassifier(bootstrap=True, ccp_alpha=0.0,\n",
       "                                              class_weight=None,\n",
       "                                              criterion='gini', max_depth=None,\n",
       "                                              max_features='auto',\n",
       "                                              max_leaf_nodes=None,\n",
       "                                              max_samples=None,\n",
       "                                              min_impurity_decrease=0.0,\n",
       "                                              min_impurity_split=None,\n",
       "                                              min_samples_leaf=1,\n",
       "                                              min_samples_split=2,\n",
       "                                              min_weight_fraction_leaf=0.0,\n",
       "                                              n_estimators=100, n_jobs=None,\n",
       "                                              oob_score=False, random_state=1,\n",
       "                                              verbose=0, warm_start=False),\n",
       "             iid='deprecated', n_jobs=-1,\n",
       "             param_grid={'class_weight': ['balanced', None],\n",
       "                         'max_depth': [5, 6, 7],\n",
       "                         'max_features': [0.1, 0.12, 'auto', 0.2],\n",
       "                         'n_estimators': [400, 500, 600]},\n",
       "             pre_dispatch='2*n_jobs', refit=True, return_train_score=False,\n",
       "             scoring='recall', verbose=1)"
      ]
     },
     "execution_count": 95,
     "metadata": {},
     "output_type": "execute_result"
    }
   ],
   "source": [
    "grid_rf2 = GridSearchCV(rf, param_grid=rf_params2, cv=7, scoring='recall', verbose =1, n_jobs=-1)\n",
    "grid_rf2.fit(X_train, y_train)"
   ]
  },
  {
   "cell_type": "code",
   "execution_count": 96,
   "metadata": {},
   "outputs": [
    {
     "name": "stdout",
     "output_type": "stream",
     "text": [
      "0.8648006862909325\n",
      "{'class_weight': 'balanced', 'max_depth': 6, 'max_features': 0.1, 'n_estimators': 400}\n",
      "RandomForestClassifier(bootstrap=True, ccp_alpha=0.0, class_weight='balanced',\n",
      "                       criterion='gini', max_depth=6, max_features=0.1,\n",
      "                       max_leaf_nodes=None, max_samples=None,\n",
      "                       min_impurity_decrease=0.0, min_impurity_split=None,\n",
      "                       min_samples_leaf=1, min_samples_split=2,\n",
      "                       min_weight_fraction_leaf=0.0, n_estimators=400,\n",
      "                       n_jobs=None, oob_score=False, random_state=1, verbose=0,\n",
      "                       warm_start=False)\n"
     ]
    }
   ],
   "source": [
    "print(grid_rf2.best_score_)\n",
    "print(grid_rf2.best_params_)\n",
    "print(grid_rf2.best_estimator_)"
   ]
  },
  {
   "cell_type": "code",
   "execution_count": 97,
   "metadata": {},
   "outputs": [
    {
     "name": "stdout",
     "output_type": "stream",
     "text": [
      "rf score: accuracy: 0.8058513893989473 f1: 0.5065339141257 recall: 0.8790496760259179 precision: 0.3557692307692308\n"
     ]
    }
   ],
   "source": [
    "rf_pred2 = grid_rf2.best_estimator_.predict(X_test)\n",
    "rf_accuracy2 = accuracy_score(y_test, rf_pred2)\n",
    "rf_f12 = f1_score(y_test, rf_pred2)\n",
    "rf_recall2 = recall_score(y_test, rf_pred2)\n",
    "rf_precision2 = precision_score(y_test, rf_pred2)\n",
    "print('rf score:', 'accuracy:',rf_accuracy2,'f1:',rf_f12,'recall:',rf_recall2,'precision:',rf_precision2)"
   ]
  },
  {
   "cell_type": "code",
   "execution_count": 98,
   "metadata": {},
   "outputs": [
    {
     "data": {
      "text/plain": [
       "array([[5769, 1474],\n",
       "       [ 112,  814]])"
      ]
     },
     "execution_count": 98,
     "metadata": {},
     "output_type": "execute_result"
    }
   ],
   "source": [
    "confusion_matrix(y_test, rf_pred2)"
   ]
  },
  {
   "cell_type": "markdown",
   "metadata": {},
   "source": [
    "The following is the confusion matrix of this model"
   ]
  },
  {
   "cell_type": "code",
   "execution_count": 99,
   "metadata": {},
   "outputs": [
    {
     "name": "stdout",
     "output_type": "stream",
     "text": [
      "Confusion Matrix, without normalization\n",
      "[[5769 1474]\n",
      " [ 112  814]]\n"
     ]
    },
    {
     "data": {
      "image/png": "[encoded data removed]",
      "text/plain": [
       "<Figure size 432x288 with 2 Axes>"
      ]
     },
     "metadata": {
      "needs_background": "light"
     },
     "output_type": "display_data"
    }
   ],
   "source": [
    "plot_confusion_matrix(metrics.confusion_matrix(y_test, rf_pred2), classes, normalize=False, \n",
    "                      title='Term Deposit Confusion Matrix', cmap=plt.cm.Blues)"
   ]
  },
  {
   "cell_type": "markdown",
   "metadata": {},
   "source": [
    "The following is the importances of variuos features in this model"
   ]
  },
  {
   "cell_type": "code",
   "execution_count": 100,
   "metadata": {
    "scrolled": true
   },
   "outputs": [
    {
     "data": {
      "text/plain": [
       "<matplotlib.axes._subplots.AxesSubplot at 0x1a26dd2f60>"
      ]
     },
     "execution_count": 100,
     "metadata": {},
     "output_type": "execute_result"
    },
    {
     "data": {
      "image/png": "[encoded data removed]",
      "text/plain": [
       "<Figure size 432x288 with 1 Axes>"
      ]
     },
     "metadata": {
      "needs_background": "light"
     },
     "output_type": "display_data"
    }
   ],
   "source": [
    "feat_importances = pd.Series(grid_rf2.best_estimator_.feature_importances_, index=features.columns)\n",
    "feat_importances.nlargest(15).plot(kind='barh')"
   ]
  },
  {
   "cell_type": "code",
   "execution_count": 101,
   "metadata": {},
   "outputs": [],
   "source": [
    "filename2 = 'sensitivity.sav'\n",
    "pickle.dump(grid_rf2.best_estimator_, open(filename2, 'wb'))"
   ]
  },
  {
   "cell_type": "markdown",
   "metadata": {},
   "source": [
    "### 5.6 GridSearchCV with RandomForest for high ROC_AUC"
   ]
  },
  {
   "cell_type": "code",
   "execution_count": 102,
   "metadata": {},
   "outputs": [],
   "source": [
    "rf_params3 = {'n_estimators': [800, 900, 100],\n",
    "              'class_weight': [None, 'balanced'],\n",
    "              'max_depth': [13, 14],\n",
    "              'max_features': [0.35, 0.4, 0.45]}"
   ]
  },
  {
   "cell_type": "code",
   "execution_count": 103,
   "metadata": {},
   "outputs": [],
   "source": [
    "rf = RandomForestClassifier(random_state = 1)"
   ]
  },
  {
   "cell_type": "code",
   "execution_count": 104,
   "metadata": {},
   "outputs": [
    {
     "name": "stdout",
     "output_type": "stream",
     "text": [
      "Fitting 7 folds for each of 36 candidates, totalling 252 fits\n"
     ]
    },
    {
     "name": "stderr",
     "output_type": "stream",
     "text": [
      "[Parallel(n_jobs=-1)]: Using backend LokyBackend with 4 concurrent workers.\n",
      "[Parallel(n_jobs=-1)]: Done  42 tasks      | elapsed:  9.1min\n",
      "[Parallel(n_jobs=-1)]: Done 192 tasks      | elapsed: 41.9min\n",
      "[Parallel(n_jobs=-1)]: Done 252 out of 252 | elapsed: 53.1min finished\n"
     ]
    },
    {
     "data": {
      "text/plain": [
       "GridSearchCV(cv=7, error_score=nan,\n",
       "             estimator=RandomForestClassifier(bootstrap=True, ccp_alpha=0.0,\n",
       "                                              class_weight=None,\n",
       "                                              criterion='gini', max_depth=None,\n",
       "                                              max_features='auto',\n",
       "                                              max_leaf_nodes=None,\n",
       "                                              max_samples=None,\n",
       "                                              min_impurity_decrease=0.0,\n",
       "                                              min_impurity_split=None,\n",
       "                                              min_samples_leaf=1,\n",
       "                                              min_samples_split=2,\n",
       "                                              min_weight_fraction_leaf=0.0,\n",
       "                                              n_estimators=100, n_jobs=None,\n",
       "                                              oob_score=False, random_state=1,\n",
       "                                              verbose=0, warm_start=False),\n",
       "             iid='deprecated', n_jobs=-1,\n",
       "             param_grid={'class_weight': [None, 'balanced'],\n",
       "                         'max_depth': [13, 14],\n",
       "                         'max_features': [0.35, 0.4, 0.45],\n",
       "                         'n_estimators': [800, 900, 100]},\n",
       "             pre_dispatch='2*n_jobs', refit=True, return_train_score=False,\n",
       "             scoring='roc_auc', verbose=1)"
      ]
     },
     "execution_count": 104,
     "metadata": {},
     "output_type": "execute_result"
    }
   ],
   "source": [
    "grid_rf3 = GridSearchCV(rf, param_grid=rf_params3, cv=7, scoring='roc_auc', verbose =1, n_jobs=-1)\n",
    "grid_rf3.fit(X_train, y_train)"
   ]
  },
  {
   "cell_type": "code",
   "execution_count": 105,
   "metadata": {},
   "outputs": [
    {
     "name": "stdout",
     "output_type": "stream",
     "text": [
      "0.9210994727677075\n",
      "{'class_weight': None, 'max_depth': 14, 'max_features': 0.35, 'n_estimators': 900}\n",
      "RandomForestClassifier(bootstrap=True, ccp_alpha=0.0, class_weight=None,\n",
      "                       criterion='gini', max_depth=14, max_features=0.35,\n",
      "                       max_leaf_nodes=None, max_samples=None,\n",
      "                       min_impurity_decrease=0.0, min_impurity_split=None,\n",
      "                       min_samples_leaf=1, min_samples_split=2,\n",
      "                       min_weight_fraction_leaf=0.0, n_estimators=900,\n",
      "                       n_jobs=None, oob_score=False, random_state=1, verbose=0,\n",
      "                       warm_start=False)\n"
     ]
    }
   ],
   "source": [
    "print(grid_rf3.best_score_)\n",
    "print(grid_rf3.best_params_)\n",
    "print(grid_rf3.best_estimator_)"
   ]
  },
  {
   "cell_type": "code",
   "execution_count": 106,
   "metadata": {},
   "outputs": [
    {
     "name": "stdout",
     "output_type": "stream",
     "text": [
      "rf score: accuracy: 0.9085567388909291 f1: 0.5202312138728324 recall: 0.4373650107991361 precision: 0.6418383518225039 roc_auc score: 0.7030812352076586\n"
     ]
    }
   ],
   "source": [
    "from sklearn.metrics import roc_auc_score\n",
    "rf_pred3 = grid_rf3.best_estimator_.predict(X_test)\n",
    "rf_accuracy3 = accuracy_score(y_test, rf_pred3)\n",
    "rf_f13 = f1_score(y_test, rf_pred3)\n",
    "rf_recall3 = recall_score(y_test, rf_pred3)\n",
    "rf_precision3 = precision_score(y_test, rf_pred3)\n",
    "rf_roc_auc3 = roc_auc_score(y_test, rf_pred3)\n",
    "print('rf score:', 'accuracy:',rf_accuracy3,'f1:',rf_f13,'recall:',rf_recall3,'precision:',rf_precision3,\n",
    "      'roc_auc score:',rf_roc_auc3)"
   ]
  },
  {
   "cell_type": "code",
   "execution_count": 107,
   "metadata": {},
   "outputs": [
    {
     "data": {
      "text/plain": [
       "array([[7017,  226],\n",
       "       [ 521,  405]])"
      ]
     },
     "execution_count": 107,
     "metadata": {},
     "output_type": "execute_result"
    }
   ],
   "source": [
    "confusion_matrix(y_test, rf_pred3)"
   ]
  },
  {
   "cell_type": "markdown",
   "metadata": {},
   "source": [
    "## 6. Models evaluation"
   ]
  },
  {
   "cell_type": "markdown",
   "metadata": {},
   "source": [
    "6.1 __Accuracy is not target:__\n",
    "This case is very highly imbalance case, the response rate is only around 11%, so high accuracy is not our target in this case. When bank or bank tellers are trying to use telemarketing campaign to get more clients to get into term deposit, there are 2 direction: one is to have high success rate, the other is to get more people."
   ]
  },
  {
   "cell_type": "markdown",
   "metadata": {},
   "source": [
    "6.2 __Precision:__ As we analyzed from all previous models, the model that gives best precision score is in section 5.3 ('grid_rf.best_estimator_'), we have the precision 0.80. When we check the confusion matrix, we can see when a positive response is predicted, 80% is correct, in the confusion matrix we can particularly see that for the 10 clients tried, 8 of them finally make term deposit. But this model does miss many of the false negatives (people who are going to make term deposit). "
   ]
  },
  {
   "cell_type": "markdown",
   "metadata": {},
   "source": [
    "6.3 __Sensitivity (Recall):__ High sensitivity prevents happenning of false negatives. From the above models, the one with best sensitivity is in section 5.5 ('grid_rf2.best_estimator_'), we have the sensitivity of 0.88. By checking the confusion matrix, we can find out that only very few false negatives exist. But there are lots of  false positives. So if the bank or bank tellers do not want to miss potential clients and does not mind spending more time, more human resources to get more clients, sensitivity is to be emphasized. "
   ]
  },
  {
   "cell_type": "markdown",
   "metadata": {},
   "source": [
    "6.4 __Precision and Recall are in tension:__ From all the above models, we found out that we cannot reach to a situation in which we have both high precision and sensitivity. At the best sensitivity scores, precision is not good; at high precision, sensitivity is low. Then we tried to find way to balance, by optimizing the F1 score, we reached to a model has balanced precision and sensitivity. This model in section 5.4 has good performance on various scores."
   ]
  },
  {
   "cell_type": "code",
   "execution_count": 128,
   "metadata": {},
   "outputs": [
    {
     "name": "stderr",
     "output_type": "stream",
     "text": [
      "/opt/anaconda3/envs/learn-env/lib/python3.6/site-packages/sklearn/svm/_base.py:947: ConvergenceWarning: Liblinear failed to converge, increase the number of iterations.\n",
      "  else:\n"
     ]
    }
   ],
   "source": [
    "from sklearn import svm\n",
    "from sklearn.metrics import precision_recall_curve, plot_precision_recall_curve, average_precision_score\n",
    "classifier = svm.LinearSVC(random_state=1)\n",
    "classifier.fit(X_train, y_train)\n",
    "y_score = classifier.decision_function(X_test)\n",
    "average_precision = average_precision_score(y_test, y_score)"
   ]
  },
  {
   "cell_type": "code",
   "execution_count": 129,
   "metadata": {},
   "outputs": [
    {
     "data": {
      "text/plain": [
       "Text(0.5, 1.0, '2-class Precision-Sensitivity Curve:AP=0.53')"
      ]
     },
     "execution_count": 129,
     "metadata": {},
     "output_type": "execute_result"
    },
    {
     "data": {
      "image/png": "[encoded data removed]",
      "text/plain": [
       "<Figure size 432x288 with 1 Axes>"
      ]
     },
     "metadata": {
      "needs_background": "light"
     },
     "output_type": "display_data"
    }
   ],
   "source": [
    "plot_precision_recall_curve(classifier, X_test, y_test)\n",
    "plt.title('2-class Precision-Sensitivity Curve:' + 'AP={0:0.2f}'.format(average_precision))"
   ]
  },
  {
   "cell_type": "markdown",
   "metadata": {},
   "source": [
    "6.5 __Upsampling and Downsampling gives little further score increase:__ We tried upsampling and downsampling of this imbalanced data, and then use various models to fit again, and had reached a little increase in the precision score and sensitivity score. We are not including the models with upsampling and downsampling here because this notebook is long enough. "
   ]
  },
  {
   "cell_type": "markdown",
   "metadata": {},
   "source": [
    "## 7. Business conclusion and discussion"
   ]
  },
  {
   "cell_type": "markdown",
   "metadata": {},
   "source": [
    "7.1 There are variuous factors that can influence the clients' response to banks' telemarketing. From the analysis in this notebook, we can conclude that: \n",
    "- Clients with different ages and occupations do have different response rate to telemarketing, middle age people has the least interests. This is because early age people (students, lack of investment experiences) and old age people (retired people, more conserative) don't have many other choices or willingness to do other investment. The EDA of different occupations responses and different ages responses are very consistent on this point. __So bank tellers shall focus more on these clients so that they can have higher success rate.__\n",
    "- Education levels matters. Low education level people (people only has primary education experience) are not likely to have positive response to the telemarketing campaign. Among the 3 different education levels, the post-secondary education level (highest) has significance response rate 14%, higher than the middle level(high school education) 10%, and further higher than 8% (lowest level, people only with the primary education). __So bank tellers shall focus more on clients with higher education.__\n",
    "- There are certain periods of time during a year people start saving. People usually spend more on holiday seasons (like Christmas) and are paying back credit cards after that. You can see March is a peak of people's response to term deposit. Another peak is close to the end of a year, after summer time. __Bank tellers shall start telemarketing campaigns in this periods in order to have good outcome.__"
   ]
  },
  {
   "cell_type": "markdown",
   "metadata": {},
   "source": [
    "7.2 Some tips to improve bank tellers' telemarketing strategies. \n",
    "- __Don't call people too many times__, as shown in Exploratory Data Analysis, when the contact time is beyond 10, the positive response rate decrease, beyond 15 times is the worst. If a client is willing to make term deposit, he/she will do it when bank teller calls him/her certain times. But too many contacts make people feel annoying.\n",
    "- __Bank balance is not super important__, one may assume that people with high balance in bank accounts are more likely to make term deposit, just because that this person have money to do it. But our analysis of features importances in section 5.3 and 5.5 shows the balance amount is not that important. Balance has some contribution to the final result, but not among the top 5. One thing to remember is that many people bank with more than 1 banking institution. So, low balance in this bank does not mean the person cannot make term deposit. High balance does not mean this person is likely to make term deposit, maybe other banks are offering this person better promotion. "
   ]
  },
  {
   "cell_type": "markdown",
   "metadata": {},
   "source": [
    "7.3 How to use the models derived in this project?\n",
    "- Commercial bank shall consider its marketing activity cost in telemarketing campaign, the cost here is mainly the human resources imput. \n",
    "- If the bank has abundant staff and not too busy in this season, it can use the model in section 5.5 with high sensitivity in order not to miss the false negatives. __In this way, although the precision is not good enough, but the bank gets as many as people truely will make term deposit.__ \n",
    "- If the bank has limited human resources, it can use the model in section 5.3 with high precision, __which filters out only limited amount of candidates to be contacted. By using this model, they can get very high success rate. But, in this way, bank will loss many false negatives.__\n",
    "- In my idea, bank who is serious about the telemarketing campaign shall use model in section 5.5 with high sensitivity to get as many clients as possible, because it is not just for term deposit in this campaign this year, it can also increase __'clients stickiness'. Term deposit is not only to get more deposit, but can also have the clients to stick with this bank for a long time, which can also bring other opportunities to the bank__ "
   ]
  },
  {
   "cell_type": "markdown",
   "metadata": {},
   "source": [
    "#### The following is to try the principal components analysis of telemarketing campain features"
   ]
  },
  {
   "cell_type": "code",
   "execution_count": 141,
   "metadata": {},
   "outputs": [
    {
     "data": {
      "text/html": [
       "<div>\n",
       "<style scoped>\n",
       "    .dataframe tbody tr th:only-of-type {\n",
       "        vertical-align: middle;\n",
       "    }\n",
       "\n",
       "    .dataframe tbody tr th {\n",
       "        vertical-align: top;\n",
       "    }\n",
       "\n",
       "    .dataframe thead th {\n",
       "        text-align: right;\n",
       "    }\n",
       "</style>\n",
       "<table border=\"1\" class=\"dataframe\">\n",
       "  <thead>\n",
       "    <tr style=\"text-align: right;\">\n",
       "      <th></th>\n",
       "      <th>age</th>\n",
       "      <th>job</th>\n",
       "      <th>marital</th>\n",
       "      <th>education</th>\n",
       "      <th>default</th>\n",
       "      <th>balance</th>\n",
       "      <th>housing</th>\n",
       "      <th>loan</th>\n",
       "      <th>day</th>\n",
       "      <th>month</th>\n",
       "      <th>duration</th>\n",
       "      <th>campaign</th>\n",
       "      <th>pdays</th>\n",
       "      <th>previous</th>\n",
       "      <th>binaryresponse</th>\n",
       "    </tr>\n",
       "  </thead>\n",
       "  <tbody>\n",
       "    <tr>\n",
       "      <td>0</td>\n",
       "      <td>58</td>\n",
       "      <td>management</td>\n",
       "      <td>married</td>\n",
       "      <td>tertiary</td>\n",
       "      <td>no</td>\n",
       "      <td>2143</td>\n",
       "      <td>yes</td>\n",
       "      <td>no</td>\n",
       "      <td>5</td>\n",
       "      <td>may</td>\n",
       "      <td>4.35</td>\n",
       "      <td>1</td>\n",
       "      <td>0</td>\n",
       "      <td>0</td>\n",
       "      <td>0</td>\n",
       "    </tr>\n",
       "    <tr>\n",
       "      <td>1</td>\n",
       "      <td>44</td>\n",
       "      <td>technician</td>\n",
       "      <td>single</td>\n",
       "      <td>secondary</td>\n",
       "      <td>no</td>\n",
       "      <td>29</td>\n",
       "      <td>yes</td>\n",
       "      <td>no</td>\n",
       "      <td>5</td>\n",
       "      <td>may</td>\n",
       "      <td>2.52</td>\n",
       "      <td>1</td>\n",
       "      <td>0</td>\n",
       "      <td>0</td>\n",
       "      <td>0</td>\n",
       "    </tr>\n",
       "    <tr>\n",
       "      <td>2</td>\n",
       "      <td>33</td>\n",
       "      <td>entrepreneur</td>\n",
       "      <td>married</td>\n",
       "      <td>secondary</td>\n",
       "      <td>no</td>\n",
       "      <td>2</td>\n",
       "      <td>yes</td>\n",
       "      <td>yes</td>\n",
       "      <td>5</td>\n",
       "      <td>may</td>\n",
       "      <td>1.27</td>\n",
       "      <td>1</td>\n",
       "      <td>0</td>\n",
       "      <td>0</td>\n",
       "      <td>0</td>\n",
       "    </tr>\n",
       "    <tr>\n",
       "      <td>5</td>\n",
       "      <td>35</td>\n",
       "      <td>management</td>\n",
       "      <td>married</td>\n",
       "      <td>tertiary</td>\n",
       "      <td>no</td>\n",
       "      <td>231</td>\n",
       "      <td>yes</td>\n",
       "      <td>no</td>\n",
       "      <td>5</td>\n",
       "      <td>may</td>\n",
       "      <td>2.32</td>\n",
       "      <td>1</td>\n",
       "      <td>0</td>\n",
       "      <td>0</td>\n",
       "      <td>0</td>\n",
       "    </tr>\n",
       "    <tr>\n",
       "      <td>6</td>\n",
       "      <td>28</td>\n",
       "      <td>management</td>\n",
       "      <td>single</td>\n",
       "      <td>tertiary</td>\n",
       "      <td>no</td>\n",
       "      <td>447</td>\n",
       "      <td>yes</td>\n",
       "      <td>yes</td>\n",
       "      <td>5</td>\n",
       "      <td>may</td>\n",
       "      <td>3.62</td>\n",
       "      <td>1</td>\n",
       "      <td>0</td>\n",
       "      <td>0</td>\n",
       "      <td>0</td>\n",
       "    </tr>\n",
       "  </tbody>\n",
       "</table>\n",
       "</div>"
      ],
      "text/plain": [
       "   age           job  marital  education default  balance housing loan  day  \\\n",
       "0   58    management  married   tertiary      no     2143     yes   no    5   \n",
       "1   44    technician   single  secondary      no       29     yes   no    5   \n",
       "2   33  entrepreneur  married  secondary      no        2     yes  yes    5   \n",
       "5   35    management  married   tertiary      no      231     yes   no    5   \n",
       "6   28    management   single   tertiary      no      447     yes  yes    5   \n",
       "\n",
       "  month  duration  campaign  pdays  previous  binaryresponse  \n",
       "0   may      4.35         1      0         0               0  \n",
       "1   may      2.52         1      0         0               0  \n",
       "2   may      1.27         1      0         0               0  \n",
       "5   may      2.32         1      0         0               0  \n",
       "6   may      3.62         1      0         0               0  "
      ]
     },
     "execution_count": 141,
     "metadata": {},
     "output_type": "execute_result"
    }
   ],
   "source": [
    "df.head()"
   ]
  },
  {
   "cell_type": "code",
   "execution_count": 197,
   "metadata": {},
   "outputs": [],
   "source": [
    "PCAfeature = ['age', 'balance', 'duration', 'pdays', 'previous', 'campaign']"
   ]
  },
  {
   "cell_type": "code",
   "execution_count": 198,
   "metadata": {},
   "outputs": [],
   "source": [
    "from sklearn.preprocessing import StandardScaler\n",
    "xx = df[PCAfeature].values # separating out the features\n",
    "yy = df[['binaryresponse']].values # separating out the target"
   ]
  },
  {
   "cell_type": "code",
   "execution_count": 199,
   "metadata": {},
   "outputs": [],
   "source": [
    "xx = StandardScaler().fit_transform(xx) # standardizing the features"
   ]
  },
  {
   "cell_type": "code",
   "execution_count": 200,
   "metadata": {},
   "outputs": [],
   "source": [
    "from sklearn.decomposition import PCA\n",
    "pca = PCA()  # create principal components \n",
    "principalComponents = pca.fit_transform(xx)\n",
    "principalDf = pd.DataFrame(data=principalComponents, columns= ['pc1', 'pc2', 'pc3', \n",
    "                                                               'pc4', 'pc5', 'pc6'])"
   ]
  },
  {
   "cell_type": "code",
   "execution_count": 201,
   "metadata": {},
   "outputs": [
    {
     "data": {
      "text/plain": [
       "array([0.26489393, 0.18549797, 0.17774922, 0.15225237, 0.14784367,\n",
       "       0.07176284])"
      ]
     },
     "execution_count": 201,
     "metadata": {},
     "output_type": "execute_result"
    }
   ],
   "source": [
    "pca.explained_variance_ratio_"
   ]
  },
  {
   "cell_type": "code",
   "execution_count": 202,
   "metadata": {},
   "outputs": [
    {
     "data": {
      "text/plain": [
       "array([1.58940247, 1.11301509, 1.06652144, 0.91353662, 0.88708373,\n",
       "       0.43058757])"
      ]
     },
     "execution_count": 202,
     "metadata": {},
     "output_type": "execute_result"
    }
   ],
   "source": [
    "pca.explained_variance_"
   ]
  },
  {
   "cell_type": "code",
   "execution_count": 203,
   "metadata": {},
   "outputs": [
    {
     "data": {
      "text/html": [
       "<div>\n",
       "<style scoped>\n",
       "    .dataframe tbody tr th:only-of-type {\n",
       "        vertical-align: middle;\n",
       "    }\n",
       "\n",
       "    .dataframe tbody tr th {\n",
       "        vertical-align: top;\n",
       "    }\n",
       "\n",
       "    .dataframe thead th {\n",
       "        text-align: right;\n",
       "    }\n",
       "</style>\n",
       "<table border=\"1\" class=\"dataframe\">\n",
       "  <thead>\n",
       "    <tr style=\"text-align: right;\">\n",
       "      <th></th>\n",
       "      <th>pc1</th>\n",
       "      <th>pc2</th>\n",
       "      <th>pc3</th>\n",
       "      <th>pc4</th>\n",
       "      <th>pc5</th>\n",
       "    </tr>\n",
       "  </thead>\n",
       "  <tbody>\n",
       "    <tr>\n",
       "      <td>0</td>\n",
       "      <td>-0.261331</td>\n",
       "      <td>1.573592</td>\n",
       "      <td>-0.525506</td>\n",
       "      <td>-0.703457</td>\n",
       "      <td>0.555271</td>\n",
       "    </tr>\n",
       "    <tr>\n",
       "      <td>1</td>\n",
       "      <td>-0.398732</td>\n",
       "      <td>-0.162062</td>\n",
       "      <td>0.103082</td>\n",
       "      <td>-0.897655</td>\n",
       "      <td>0.403582</td>\n",
       "    </tr>\n",
       "    <tr>\n",
       "      <td>2</td>\n",
       "      <td>-0.431254</td>\n",
       "      <td>-0.877801</td>\n",
       "      <td>0.411003</td>\n",
       "      <td>-0.843431</td>\n",
       "      <td>-0.355050</td>\n",
       "    </tr>\n",
       "    <tr>\n",
       "      <td>3</td>\n",
       "      <td>-0.408554</td>\n",
       "      <td>-0.589508</td>\n",
       "      <td>0.446010</td>\n",
       "      <td>-0.714454</td>\n",
       "      <td>-0.244532</td>\n",
       "    </tr>\n",
       "    <tr>\n",
       "      <td>4</td>\n",
       "      <td>-0.401764</td>\n",
       "      <td>-0.772647</td>\n",
       "      <td>0.917808</td>\n",
       "      <td>-0.363681</td>\n",
       "      <td>-0.662081</td>\n",
       "    </tr>\n",
       "  </tbody>\n",
       "</table>\n",
       "</div>"
      ],
      "text/plain": [
       "        pc1       pc2       pc3       pc4       pc5\n",
       "0 -0.261331  1.573592 -0.525506 -0.703457  0.555271\n",
       "1 -0.398732 -0.162062  0.103082 -0.897655  0.403582\n",
       "2 -0.431254 -0.877801  0.411003 -0.843431 -0.355050\n",
       "3 -0.408554 -0.589508  0.446010 -0.714454 -0.244532\n",
       "4 -0.401764 -0.772647  0.917808 -0.363681 -0.662081"
      ]
     },
     "execution_count": 203,
     "metadata": {},
     "output_type": "execute_result"
    }
   ],
   "source": [
    "principalDf.iloc[:,:5].head()"
   ]
  },
  {
   "cell_type": "code",
   "execution_count": 204,
   "metadata": {},
   "outputs": [
    {
     "name": "stdout",
     "output_type": "stream",
     "text": [
      "[1.58940247 1.11301509 1.06652144 0.91353662 0.88708373 0.43058757]\n",
      "[[ 0.02018613  0.07747023  0.0348033   0.69525224  0.69027609 -0.18034093]\n",
      " [ 0.56816385  0.6620141   0.37436788 -0.10137543 -0.08236566 -0.28585797]\n",
      " [-0.4638816  -0.22368692  0.62940111 -0.04382052 -0.09833533 -0.57187603]\n",
      " [-0.21949104  0.18945474  0.59686205  0.03800886  0.10985937  0.73903486]\n",
      " [ 0.64269576 -0.68507385  0.32568145  0.02815391  0.03847465  0.09630487]\n",
      " [-0.01902774 -0.02192199 -0.01337757 -0.7086535   0.70250665 -0.05721037]]\n"
     ]
    }
   ],
   "source": [
    "eig_values = pca.explained_variance_\n",
    "eig_vectors = pca.components_\n",
    "print(eig_values)\n",
    "print(eig_vectors)"
   ]
  },
  {
   "cell_type": "code",
   "execution_count": 205,
   "metadata": {},
   "outputs": [
    {
     "data": {
      "text/plain": [
       "array([ 0.02018613,  0.07747023,  0.0348033 ,  0.69525224,  0.69027609,\n",
       "       -0.18034093])"
      ]
     },
     "execution_count": 205,
     "metadata": {},
     "output_type": "execute_result"
    }
   ],
   "source": [
    "eig_vectors[0]"
   ]
  },
  {
   "cell_type": "code",
   "execution_count": 206,
   "metadata": {},
   "outputs": [
    {
     "name": "stdout",
     "output_type": "stream",
     "text": [
      "[ 0.02018613  0.07747023  0.0348033   0.69525224  0.69027609 -0.18034093]\n",
      "[ 0.56816385  0.6620141   0.37436788 -0.10137543 -0.08236566 -0.28585797]\n"
     ]
    }
   ],
   "source": [
    "pc11 = pca.components_[0]\n",
    "pc22 = pca.components_[1]\n",
    "print(pc11)\n",
    "print(pc22)"
   ]
  },
  {
   "cell_type": "code",
   "execution_count": 207,
   "metadata": {
    "scrolled": true
   },
   "outputs": [
    {
     "data": {
      "text/plain": [
       "age         0.025449\n",
       "balance     0.097668\n",
       "duration    0.043877\n",
       "pdays       0.876515\n",
       "previous    0.870241\n",
       "campaign   -0.227359\n",
       "dtype: float64"
      ]
     },
     "execution_count": 207,
     "metadata": {},
     "output_type": "execute_result"
    }
   ],
   "source": [
    "structure_loading_1 = pc11* np.sqrt(eig_values[0])\n",
    "str_loading_1 = pd.Series(structure_loading_1, index=PCAfeature)\n",
    "str_loading_1"
   ]
  },
  {
   "cell_type": "code",
   "execution_count": 208,
   "metadata": {
    "scrolled": true
   },
   "outputs": [
    {
     "data": {
      "text/plain": [
       "pdays       0.876515\n",
       "previous    0.870241\n",
       "balance     0.097668\n",
       "duration    0.043877\n",
       "age         0.025449\n",
       "campaign   -0.227359\n",
       "dtype: float64"
      ]
     },
     "execution_count": 208,
     "metadata": {},
     "output_type": "execute_result"
    }
   ],
   "source": [
    "str_loading_1.sort_values(ascending=False)"
   ]
  },
  {
   "cell_type": "code",
   "execution_count": 209,
   "metadata": {},
   "outputs": [
    {
     "data": {
      "text/plain": [
       "age         0.599410\n",
       "balance     0.698422\n",
       "duration    0.394956\n",
       "pdays      -0.106951\n",
       "previous   -0.086895\n",
       "campaign   -0.301579\n",
       "dtype: float64"
      ]
     },
     "execution_count": 209,
     "metadata": {},
     "output_type": "execute_result"
    }
   ],
   "source": [
    "structure_loading_2 = pc22* np.sqrt(eig_values[1])\n",
    "str_loading_2 = pd.Series(structure_loading_2, index=PCAfeature)\n",
    "str_loading_2"
   ]
  },
  {
   "cell_type": "code",
   "execution_count": 210,
   "metadata": {},
   "outputs": [
    {
     "data": {
      "text/plain": [
       "balance     0.698422\n",
       "age         0.599410\n",
       "duration    0.394956\n",
       "previous   -0.086895\n",
       "pdays      -0.106951\n",
       "campaign   -0.301579\n",
       "dtype: float64"
      ]
     },
     "execution_count": 210,
     "metadata": {},
     "output_type": "execute_result"
    }
   ],
   "source": [
    "str_loading_2.sort_values(ascending=False)"
   ]
  },
  {
   "cell_type": "code",
   "execution_count": 195,
   "metadata": {},
   "outputs": [
    {
     "data": {
      "text/plain": [
       "Text(0, 0.5, 'proportion of explained variance')"
      ]
     },
     "execution_count": 195,
     "metadata": {},
     "output_type": "execute_result"
    },
    {
     "data": {
      "image/png": "[encoded data removed]",
      "text/plain": [
       "<Figure size 432x288 with 1 Axes>"
      ]
     },
     "metadata": {
      "needs_background": "light"
     },
     "output_type": "display_data"
    }
   ],
   "source": [
    "index = np.arange(6)\n",
    "plt.bar(index, pca.explained_variance_ratio_)\n",
    "plt.title('Scree plot for PCA')\n",
    "plt.xlabel('Num of components')\n",
    "plt.ylabel('proportion of explained variance')"
   ]
  },
  {
   "cell_type": "code",
   "execution_count": 196,
   "metadata": {},
   "outputs": [
    {
     "data": {
      "text/plain": [
       "Text(0, 0.5, 'explained variance ratio')"
      ]
     },
     "execution_count": 196,
     "metadata": {},
     "output_type": "execute_result"
    },
    {
     "data": {
      "image/png": "[encoded data removed]",
      "text/plain": [
       "<Figure size 432x288 with 1 Axes>"
      ]
     },
     "metadata": {
      "needs_background": "light"
     },
     "output_type": "display_data"
    }
   ],
   "source": [
    "plt.plot(np.cumsum(pca.explained_variance_ratio_))\n",
    "plt.xlabel('number of components')\n",
    "plt.ylabel('explained variance ratio')"
   ]
  },
  {
   "cell_type": "code",
   "execution_count": null,
   "metadata": {},
   "outputs": [],
   "source": []
  }
 ],
 "metadata": {
  "kernelspec": {
   "display_name": "learn-env",
   "language": "python",
   "name": "learn-env"
  },
  "language_info": {
   "codemirror_mode": {
    "name": "ipython",
    "version": 3
   },
   "file_extension": ".py",
   "mimetype": "text/x-python",
   "name": "python",
   "nbconvert_exporter": "python",
   "pygments_lexer": "ipython3",
   "version": "3.6.9"
  }
 },
 "nbformat": 4,
 "nbformat_minor": 2
}
